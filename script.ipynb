{
 "cells": [
  {
   "cell_type": "markdown",
   "metadata": {},
   "source": [
    "# Copy Number Variants"
   ]
  },
  {
   "cell_type": "code",
   "execution_count": 193,
   "metadata": {},
   "outputs": [],
   "source": [
    "import numpy as np\n",
    "import pandas as pd\n",
    "import matplotlib.pyplot as plt\n",
    "from sklearn.model_selection import train_test_split\n",
    "from sklearn.preprocessing import MinMaxScaler"
   ]
  },
  {
   "cell_type": "code",
   "execution_count": 194,
   "metadata": {},
   "outputs": [],
   "source": [
    "from keras.layers import Dense\n",
    "from keras.models import Sequential\n",
    "from keras.losses import BinaryCrossentropy\n",
    "from keras.metrics import BinaryAccuracy"
   ]
  },
  {
   "cell_type": "code",
   "execution_count": 195,
   "metadata": {},
   "outputs": [],
   "source": [
    "data = pd.read_csv(\"final_data.csv\")"
   ]
  },
  {
   "cell_type": "markdown",
   "metadata": {},
   "source": [
    "Take the fist 10 columns as **input** and the last column (parameter `clinSign`) as **output**"
   ]
  },
  {
   "cell_type": "code",
   "execution_count": 196,
   "metadata": {},
   "outputs": [],
   "source": [
    "input_columns = data.columns[0:10]\n",
    "output_column = data.columns[-1]"
   ]
  },
  {
   "cell_type": "markdown",
   "metadata": {},
   "source": [
    "Create the necessary array for input"
   ]
  },
  {
   "cell_type": "code",
   "execution_count": 197,
   "metadata": {},
   "outputs": [
    {
     "data": {
      "text/html": [
       "<div>\n",
       "<style scoped>\n",
       "    .dataframe tbody tr th:only-of-type {\n",
       "        vertical-align: middle;\n",
       "    }\n",
       "\n",
       "    .dataframe tbody tr th {\n",
       "        vertical-align: top;\n",
       "    }\n",
       "\n",
       "    .dataframe thead th {\n",
       "        text-align: right;\n",
       "    }\n",
       "</style>\n",
       "<table border=\"1\" class=\"dataframe\">\n",
       "  <thead>\n",
       "    <tr style=\"text-align: right;\">\n",
       "      <th></th>\n",
       "      <th>input</th>\n",
       "      <th>output</th>\n",
       "    </tr>\n",
       "  </thead>\n",
       "  <tbody>\n",
       "    <tr>\n",
       "      <th>0</th>\n",
       "      <td>[1.0, 1.0, 0.120410661, -0.40659957, 1.0, 1.0,...</td>\n",
       "      <td>1</td>\n",
       "    </tr>\n",
       "    <tr>\n",
       "      <th>1</th>\n",
       "      <td>[1.0, 1.0, 0.00465053, -0.725674551, 1.0, 1.0,...</td>\n",
       "      <td>1</td>\n",
       "    </tr>\n",
       "    <tr>\n",
       "      <th>2</th>\n",
       "      <td>[1.0, 1.0, 0.00465053, -0.725674551, 1.0, 1.0,...</td>\n",
       "      <td>1</td>\n",
       "    </tr>\n",
       "    <tr>\n",
       "      <th>3</th>\n",
       "      <td>[1.0, 1.0, 0.003168344, 0.053668869, 1.0, 1.0,...</td>\n",
       "      <td>1</td>\n",
       "    </tr>\n",
       "    <tr>\n",
       "      <th>4</th>\n",
       "      <td>[0.0, 1.0, 0.000149578, -0.642292587, 1.0, 1.0...</td>\n",
       "      <td>1</td>\n",
       "    </tr>\n",
       "  </tbody>\n",
       "</table>\n",
       "</div>"
      ],
      "text/plain": [
       "                                               input  output\n",
       "0  [1.0, 1.0, 0.120410661, -0.40659957, 1.0, 1.0,...       1\n",
       "1  [1.0, 1.0, 0.00465053, -0.725674551, 1.0, 1.0,...       1\n",
       "2  [1.0, 1.0, 0.00465053, -0.725674551, 1.0, 1.0,...       1\n",
       "3  [1.0, 1.0, 0.003168344, 0.053668869, 1.0, 1.0,...       1\n",
       "4  [0.0, 1.0, 0.000149578, -0.642292587, 1.0, 1.0...       1"
      ]
     },
     "execution_count": 197,
     "metadata": {},
     "output_type": "execute_result"
    }
   ],
   "source": [
    "\n",
    "def x_helper(row):\n",
    "    return [row[i] for i in input_columns]\n",
    "\n",
    "x_temp = data.apply(x_helper,axis=1)\n",
    "y_temp = data[output_column]\n",
    "\n",
    "res_data = pd.DataFrame(list(zip(x_temp,y_temp)),columns=(\"input\",\"output\"))\n",
    "\n",
    "x = np.array(res_data['input'].tolist())\n",
    "y = np.array(res_data['output'].tolist())\n",
    "\n",
    "res_data.head()"
   ]
  },
  {
   "cell_type": "markdown",
   "metadata": {},
   "source": [
    "Counting zeros and ones for further balancing"
   ]
  },
  {
   "cell_type": "code",
   "execution_count": 198,
   "metadata": {},
   "outputs": [
    {
     "name": "stdout",
     "output_type": "stream",
     "text": [
      "One's: 4612 \n",
      "Zero's: 1967\n"
     ]
    }
   ],
   "source": [
    "ones = (y == 1).sum()\n",
    "zeros = (y == 0).sum()\n",
    "print(\"One's:\", ones, \"\\nZero's:\", zeros)"
   ]
  },
  {
   "cell_type": "markdown",
   "metadata": {},
   "source": [
    "Find all indices of ones and zeros"
   ]
  },
  {
   "cell_type": "code",
   "execution_count": 199,
   "metadata": {},
   "outputs": [],
   "source": [
    "ones_indices = np.where(y == 1 )[0]\n",
    "zeros_indices = np.where(y ==0)[0]"
   ]
  },
  {
   "cell_type": "code",
   "execution_count": 200,
   "metadata": {},
   "outputs": [
    {
     "name": "stdout",
     "output_type": "stream",
     "text": [
      "Counting zeros: 1967\n",
      "Percentage of zeros: 0.2989816081471348\n",
      "Counting ones: 4612\n",
      "Percentage of ones: 0.7010183918528652\n"
     ]
    }
   ],
   "source": [
    "print(f\"Counting zeros: {zeros}\" )\n",
    "print(f\"Percentage of zeros: {zeros/(zeros+ones)}\" )\n",
    "print(f\"Counting ones: {ones}\" )\n",
    "print(f\"Percentage of ones: {ones/(zeros+ones)}\" )"
   ]
  },
  {
   "cell_type": "markdown",
   "metadata": {},
   "source": [
    "Create **balanced data** so that the number of ones and zeros is equal"
   ]
  },
  {
   "cell_type": "code",
   "execution_count": 201,
   "metadata": {},
   "outputs": [],
   "source": [
    "n_samples = min(len(zeros_indices), len(ones_indices))\n",
    "\n",
    "# Randomly select n_samples from ones and zeros\n",
    "np.random.seed(42) \n",
    "selected_zeros_indices = np.random.choice(zeros_indices, n_samples, replace=False)\n",
    "selected_ones_indices = np.random.choice(ones_indices, n_samples, replace=False)\n",
    "\n",
    "# Combine and shuffle the indices\n",
    "balanced_indices = np.concatenate([selected_zeros_indices, selected_ones_indices])\n",
    "np.random.shuffle(balanced_indices)\n",
    "\n",
    "# Create balanced arrays\n",
    "x_balanced = x[balanced_indices]\n",
    "y_balanced = y[balanced_indices]\n"
   ]
  },
  {
   "cell_type": "code",
   "execution_count": 202,
   "metadata": {},
   "outputs": [
    {
     "name": "stdout",
     "output_type": "stream",
     "text": [
      "One's: 1967 \n",
      "Zero's: 1967\n"
     ]
    }
   ],
   "source": [
    "ones = (y_balanced == 1).sum()\n",
    "zeros = (y_balanced == 0).sum()\n",
    "print(\"One's:\", ones, \"\\nZero's:\", zeros)"
   ]
  },
  {
   "cell_type": "markdown",
   "metadata": {},
   "source": [
    "Normalise the input data and separate the data for **training** and **testing**"
   ]
  },
  {
   "cell_type": "code",
   "execution_count": 203,
   "metadata": {},
   "outputs": [],
   "source": [
    "# Scaling the features\n",
    "mms = MinMaxScaler()\n",
    "# test = x_balanced.copy()\n",
    "x_balanced = mms.fit_transform(x_balanced)\n",
    "x_train, x_test, y_train, y_test = train_test_split(x_balanced, y_balanced, test_size=0.25)"
   ]
  },
  {
   "cell_type": "markdown",
   "metadata": {},
   "source": [
    "Create new output data arrays for model training and testing:\n",
    "\n",
    "0 -> [1,0]\n",
    "\n",
    "1 -> [0,1]"
   ]
  },
  {
   "cell_type": "code",
   "execution_count": 204,
   "metadata": {},
   "outputs": [],
   "source": [
    "\n",
    "def y_helper(x):\n",
    "    return [1 if x==i else 0 for i in range(2)]\n",
    "\n",
    "y_train_array = np.array(list(map(y_helper,y_train)))\n",
    "y_test_array = np.array(list(map(y_helper,y_test)))\n"
   ]
  },
  {
   "cell_type": "code",
   "execution_count": 205,
   "metadata": {},
   "outputs": [],
   "source": [
    "# Compile the model\n",
    "model = Sequential([\n",
    "    Dense(16, input_dim=10, activation='relu'),\n",
    "    Dense(64, activation='sigmoid'),\n",
    "    Dense(16, activation='relu'),\n",
    "    Dense(2, activation='sigmoid')\n",
    "])\n",
    "model.compile(loss=BinaryCrossentropy(), optimizer=\"adam\", metrics=[BinaryAccuracy()])"
   ]
  },
  {
   "cell_type": "code",
   "execution_count": 206,
   "metadata": {},
   "outputs": [
    {
     "name": "stdout",
     "output_type": "stream",
     "text": [
      "Epoch 1/50\n",
      "93/93 [==============================] - 1s 4ms/step - loss: 0.6878 - binary_accuracy: 0.5515 - val_loss: 0.6815 - val_binary_accuracy: 0.5091\n",
      "Epoch 2/50\n",
      "93/93 [==============================] - 0s 3ms/step - loss: 0.6674 - binary_accuracy: 0.6098 - val_loss: 0.6549 - val_binary_accuracy: 0.6585\n",
      "Epoch 3/50\n",
      "93/93 [==============================] - 0s 3ms/step - loss: 0.6454 - binary_accuracy: 0.6520 - val_loss: 0.6497 - val_binary_accuracy: 0.6382\n",
      "Epoch 4/50\n",
      "93/93 [==============================] - 0s 2ms/step - loss: 0.6415 - binary_accuracy: 0.6537 - val_loss: 0.6462 - val_binary_accuracy: 0.6402\n",
      "Epoch 5/50\n",
      "93/93 [==============================] - 0s 3ms/step - loss: 0.6368 - binary_accuracy: 0.6576 - val_loss: 0.6442 - val_binary_accuracy: 0.6448\n",
      "Epoch 6/50\n",
      "93/93 [==============================] - 0s 3ms/step - loss: 0.6371 - binary_accuracy: 0.6595 - val_loss: 0.6428 - val_binary_accuracy: 0.6438\n",
      "Epoch 7/50\n",
      "93/93 [==============================] - 0s 3ms/step - loss: 0.6369 - binary_accuracy: 0.6612 - val_loss: 0.6406 - val_binary_accuracy: 0.6519\n",
      "Epoch 8/50\n",
      "93/93 [==============================] - 0s 3ms/step - loss: 0.6342 - binary_accuracy: 0.6605 - val_loss: 0.6416 - val_binary_accuracy: 0.6402\n",
      "Epoch 9/50\n",
      "93/93 [==============================] - 0s 2ms/step - loss: 0.6309 - binary_accuracy: 0.6595 - val_loss: 0.6430 - val_binary_accuracy: 0.6438\n",
      "Epoch 10/50\n",
      "93/93 [==============================] - 0s 3ms/step - loss: 0.6333 - binary_accuracy: 0.6585 - val_loss: 0.6380 - val_binary_accuracy: 0.6438\n",
      "Epoch 11/50\n",
      "93/93 [==============================] - 0s 3ms/step - loss: 0.6297 - binary_accuracy: 0.6610 - val_loss: 0.6365 - val_binary_accuracy: 0.6418\n",
      "Epoch 12/50\n",
      "93/93 [==============================] - 0s 3ms/step - loss: 0.6288 - binary_accuracy: 0.6575 - val_loss: 0.6362 - val_binary_accuracy: 0.6443\n",
      "Epoch 13/50\n",
      "93/93 [==============================] - 0s 3ms/step - loss: 0.6263 - binary_accuracy: 0.6607 - val_loss: 0.6347 - val_binary_accuracy: 0.6443\n",
      "Epoch 14/50\n",
      "93/93 [==============================] - 0s 3ms/step - loss: 0.6258 - binary_accuracy: 0.6627 - val_loss: 0.6359 - val_binary_accuracy: 0.6474\n",
      "Epoch 15/50\n",
      "93/93 [==============================] - 0s 3ms/step - loss: 0.6247 - binary_accuracy: 0.6631 - val_loss: 0.6338 - val_binary_accuracy: 0.6428\n",
      "Epoch 16/50\n",
      "93/93 [==============================] - 0s 3ms/step - loss: 0.6247 - binary_accuracy: 0.6644 - val_loss: 0.6322 - val_binary_accuracy: 0.6540\n",
      "Epoch 17/50\n",
      "93/93 [==============================] - 0s 2ms/step - loss: 0.6233 - binary_accuracy: 0.6625 - val_loss: 0.6331 - val_binary_accuracy: 0.6474\n",
      "Epoch 18/50\n",
      "93/93 [==============================] - 0s 2ms/step - loss: 0.6223 - binary_accuracy: 0.6617 - val_loss: 0.6312 - val_binary_accuracy: 0.6448\n",
      "Epoch 19/50\n",
      "93/93 [==============================] - 0s 3ms/step - loss: 0.6225 - binary_accuracy: 0.6649 - val_loss: 0.6310 - val_binary_accuracy: 0.6575\n",
      "Epoch 20/50\n",
      "93/93 [==============================] - 0s 3ms/step - loss: 0.6205 - binary_accuracy: 0.6676 - val_loss: 0.6304 - val_binary_accuracy: 0.6499\n",
      "Epoch 21/50\n",
      "93/93 [==============================] - 0s 3ms/step - loss: 0.6198 - binary_accuracy: 0.6668 - val_loss: 0.6303 - val_binary_accuracy: 0.6611\n",
      "Epoch 22/50\n",
      "93/93 [==============================] - 0s 3ms/step - loss: 0.6172 - binary_accuracy: 0.6686 - val_loss: 0.6413 - val_binary_accuracy: 0.6453\n",
      "Epoch 23/50\n",
      "93/93 [==============================] - 0s 3ms/step - loss: 0.6186 - binary_accuracy: 0.6656 - val_loss: 0.6305 - val_binary_accuracy: 0.6484\n",
      "Epoch 24/50\n",
      "93/93 [==============================] - 0s 3ms/step - loss: 0.6192 - binary_accuracy: 0.6686 - val_loss: 0.6290 - val_binary_accuracy: 0.6606\n",
      "Epoch 25/50\n",
      "93/93 [==============================] - 0s 3ms/step - loss: 0.6174 - binary_accuracy: 0.6695 - val_loss: 0.6343 - val_binary_accuracy: 0.6474\n",
      "Epoch 26/50\n",
      "93/93 [==============================] - 0s 3ms/step - loss: 0.6162 - binary_accuracy: 0.6686 - val_loss: 0.6287 - val_binary_accuracy: 0.6494\n",
      "Epoch 27/50\n",
      "93/93 [==============================] - 0s 2ms/step - loss: 0.6161 - binary_accuracy: 0.6685 - val_loss: 0.6285 - val_binary_accuracy: 0.6575\n",
      "Epoch 28/50\n",
      "93/93 [==============================] - 0s 3ms/step - loss: 0.6161 - binary_accuracy: 0.6683 - val_loss: 0.6273 - val_binary_accuracy: 0.6596\n",
      "Epoch 29/50\n",
      "93/93 [==============================] - 0s 2ms/step - loss: 0.6175 - binary_accuracy: 0.6658 - val_loss: 0.6344 - val_binary_accuracy: 0.6463\n",
      "Epoch 30/50\n",
      "93/93 [==============================] - 0s 2ms/step - loss: 0.6145 - binary_accuracy: 0.6675 - val_loss: 0.6289 - val_binary_accuracy: 0.6606\n",
      "Epoch 31/50\n",
      "93/93 [==============================] - 0s 2ms/step - loss: 0.6150 - binary_accuracy: 0.6698 - val_loss: 0.6264 - val_binary_accuracy: 0.6601\n",
      "Epoch 32/50\n",
      "93/93 [==============================] - 0s 2ms/step - loss: 0.6136 - binary_accuracy: 0.6675 - val_loss: 0.6309 - val_binary_accuracy: 0.6321\n",
      "Epoch 33/50\n",
      "93/93 [==============================] - 0s 3ms/step - loss: 0.6140 - binary_accuracy: 0.6678 - val_loss: 0.6274 - val_binary_accuracy: 0.6590\n",
      "Epoch 34/50\n",
      "93/93 [==============================] - 0s 3ms/step - loss: 0.6131 - binary_accuracy: 0.6695 - val_loss: 0.6296 - val_binary_accuracy: 0.6519\n",
      "Epoch 35/50\n",
      "93/93 [==============================] - 0s 3ms/step - loss: 0.6148 - binary_accuracy: 0.6719 - val_loss: 0.6286 - val_binary_accuracy: 0.6580\n",
      "Epoch 36/50\n",
      "93/93 [==============================] - 0s 2ms/step - loss: 0.6134 - binary_accuracy: 0.6695 - val_loss: 0.6277 - val_binary_accuracy: 0.6636\n",
      "Epoch 37/50\n",
      "93/93 [==============================] - 0s 3ms/step - loss: 0.6115 - binary_accuracy: 0.6651 - val_loss: 0.6253 - val_binary_accuracy: 0.6570\n",
      "Epoch 38/50\n",
      "93/93 [==============================] - 0s 2ms/step - loss: 0.6138 - binary_accuracy: 0.6651 - val_loss: 0.6261 - val_binary_accuracy: 0.6535\n",
      "Epoch 39/50\n",
      "93/93 [==============================] - 0s 3ms/step - loss: 0.6137 - binary_accuracy: 0.6681 - val_loss: 0.6279 - val_binary_accuracy: 0.6590\n",
      "Epoch 40/50\n",
      "93/93 [==============================] - 0s 2ms/step - loss: 0.6111 - binary_accuracy: 0.6719 - val_loss: 0.6258 - val_binary_accuracy: 0.6580\n",
      "Epoch 41/50\n",
      "93/93 [==============================] - 0s 3ms/step - loss: 0.6110 - binary_accuracy: 0.6753 - val_loss: 0.6283 - val_binary_accuracy: 0.6590\n",
      "Epoch 42/50\n",
      "93/93 [==============================] - 0s 2ms/step - loss: 0.6111 - binary_accuracy: 0.6710 - val_loss: 0.6271 - val_binary_accuracy: 0.6621\n",
      "Epoch 43/50\n",
      "93/93 [==============================] - 0s 2ms/step - loss: 0.6109 - binary_accuracy: 0.6727 - val_loss: 0.6268 - val_binary_accuracy: 0.6641\n",
      "Epoch 44/50\n",
      "93/93 [==============================] - 0s 3ms/step - loss: 0.6112 - binary_accuracy: 0.6720 - val_loss: 0.6248 - val_binary_accuracy: 0.6626\n",
      "Epoch 45/50\n",
      "93/93 [==============================] - 0s 3ms/step - loss: 0.6102 - binary_accuracy: 0.6734 - val_loss: 0.6260 - val_binary_accuracy: 0.6616\n",
      "Epoch 46/50\n",
      "93/93 [==============================] - 0s 3ms/step - loss: 0.6097 - binary_accuracy: 0.6727 - val_loss: 0.6270 - val_binary_accuracy: 0.6621\n",
      "Epoch 47/50\n",
      "93/93 [==============================] - 0s 3ms/step - loss: 0.6112 - binary_accuracy: 0.6712 - val_loss: 0.6248 - val_binary_accuracy: 0.6631\n",
      "Epoch 48/50\n",
      "93/93 [==============================] - 0s 2ms/step - loss: 0.6101 - binary_accuracy: 0.6731 - val_loss: 0.6239 - val_binary_accuracy: 0.6657\n",
      "Epoch 49/50\n",
      "93/93 [==============================] - 0s 3ms/step - loss: 0.6093 - binary_accuracy: 0.6715 - val_loss: 0.6240 - val_binary_accuracy: 0.6631\n",
      "Epoch 50/50\n",
      "93/93 [==============================] - 0s 2ms/step - loss: 0.6075 - binary_accuracy: 0.6693 - val_loss: 0.6274 - val_binary_accuracy: 0.6646\n"
     ]
    }
   ],
   "source": [
    "history = model.fit(x_train, y_train_array, epochs=50, batch_size=32, validation_data=(x_test, y_test_array))\n"
   ]
  },
  {
   "cell_type": "markdown",
   "metadata": {},
   "source": [
    "## Testing the model"
   ]
  },
  {
   "cell_type": "markdown",
   "metadata": {},
   "source": [
    "### Loss graph"
   ]
  },
  {
   "cell_type": "code",
   "execution_count": 207,
   "metadata": {},
   "outputs": [
    {
     "data": {
      "image/png": "[encoded data removed]",
      "text/plain": [
       "<Figure size 640x480 with 1 Axes>"
      ]
     },
     "metadata": {},
     "output_type": "display_data"
    }
   ],
   "source": [
    "plt.plot(history.history['loss'] )\n",
    "plt.plot(history.history['val_loss'] )\n",
    "plt.xlabel('Epochs')\n",
    "plt.ylabel('Loss')\n",
    "plt.legend([\"Train loss\",\"Test loss\"],loc='upper left')\n",
    "\n",
    "plt.show()"
   ]
  },
  {
   "cell_type": "markdown",
   "metadata": {},
   "source": [
    "### Accuracy graph"
   ]
  },
  {
   "cell_type": "code",
   "execution_count": 208,
   "metadata": {},
   "outputs": [
    {
     "data": {
      "image/png": "[encoded data removed]",
      "text/plain": [
       "<Figure size 640x480 with 1 Axes>"
      ]
     },
     "metadata": {},
     "output_type": "display_data"
    }
   ],
   "source": [
    "plt.plot(history.history['binary_accuracy'] )\n",
    "plt.plot(history.history['val_binary_accuracy'])\n",
    "plt.xlabel('Epochs')\n",
    "plt.ylabel('Accuracy')\n",
    "plt.legend(['Train',\"Test\"],loc='upper left')\n",
    "\n",
    "plt.show()"
   ]
  },
  {
   "cell_type": "code",
   "execution_count": 209,
   "metadata": {},
   "outputs": [
    {
     "name": "stdout",
     "output_type": "stream",
     "text": [
      "93/93 [==============================] - 0s 2ms/step - loss: 0.6073 - binary_accuracy: 0.6773\n",
      "Train Loss: 0.6073094606399536\n",
      "Train Accuracy: 0.6772881150245667\n"
     ]
    }
   ],
   "source": [
    "# Evaluate the model on train data\n",
    "loss, accuracy = model.evaluate(x_train, y_train_array)\n",
    "\n",
    "print(f\"Train Loss: {loss}\")\n",
    "print(f\"Train Accuracy: {accuracy}\")"
   ]
  },
  {
   "cell_type": "code",
   "execution_count": 210,
   "metadata": {},
   "outputs": [
    {
     "name": "stdout",
     "output_type": "stream",
     "text": [
      "31/31 [==============================] - 0s 2ms/step - loss: 0.6274 - binary_accuracy: 0.6646\n",
      "Test Loss: 0.6274300217628479\n",
      "Test Accuracy: 0.6646341681480408\n"
     ]
    }
   ],
   "source": [
    "# Evaluate the model on test data\n",
    "loss, accuracy = model.evaluate(x_test, y_test_array)\n",
    "\n",
    "print(f\"Test Loss: {loss}\")\n",
    "print(f\"Test Accuracy: {accuracy}\")"
   ]
  },
  {
   "cell_type": "markdown",
   "metadata": {},
   "source": [
    "Making subarrays with zeros and ones"
   ]
  },
  {
   "cell_type": "code",
   "execution_count": 211,
   "metadata": {},
   "outputs": [],
   "source": [
    "x_test_zeros = x_test[y_test == 0]\n",
    "y_test_zeros = y_test_array[y_test == 0]\n",
    "\n",
    "x_test_ones = x_test[y_test == 1]\n",
    "y_test_ones = y_test_array[y_test == 1]"
   ]
  },
  {
   "cell_type": "code",
   "execution_count": 212,
   "metadata": {},
   "outputs": [
    {
     "name": "stdout",
     "output_type": "stream",
     "text": [
      "16/16 [==============================] - 0s 2ms/step - loss: 0.5798 - binary_accuracy: 0.6915\n",
      "Accuracy for test data with zeros: 0.6915113925933838\n",
      "16/16 [==============================] - 0s 2ms/step - loss: 0.6734 - binary_accuracy: 0.6387\n",
      "Accuracy for test data with ones: 0.6387225389480591\n"
     ]
    }
   ],
   "source": [
    "# Evaluate the model on the subset with zeros\n",
    "loss_zeros, accuracy_zeros = model.evaluate(x_test_zeros, y_test_zeros)\n",
    "print(f\"Accuracy for test data with zeros: {accuracy_zeros}\")\n",
    "\n",
    "# Evaluate the model on the subset with ones\n",
    "loss_ones, accuracy_ones = model.evaluate(x_test_ones, y_test_ones)\n",
    "print(f\"Accuracy for test data with ones: {accuracy_ones}\")"
   ]
  }
 ],
 "metadata": {
  "kernelspec": {
   "display_name": "learning",
   "language": "python",
   "name": "python3"
  },
  "language_info": {
   "codemirror_mode": {
    "name": "ipython",
    "version": 3
   },
   "file_extension": ".py",
   "mimetype": "text/x-python",
   "name": "python",
   "nbconvert_exporter": "python",
   "pygments_lexer": "ipython3",
   "version": "3.11.7"
  }
 },
 "nbformat": 4,
 "nbformat_minor": 2
}
