{
 "cells": [
  {
   "cell_type": "code",
   "execution_count": 11,
   "metadata": {},
   "outputs": [],
   "source": [
    "import numpy as np\n",
    "import pandas as pd\n",
    "import matplotlib.pyplot as plt\n",
    "from sklearn.metrics import accuracy_score\n",
    "from sklearn.model_selection import train_test_split\n",
    "from sklearn.preprocessing import MinMaxScaler\n",
    "from keras.layers import Dense\n",
    "from keras.models import Sequential\n",
    "from keras.losses import BinaryCrossentropy\n",
    "from keras.metrics import BinaryAccuracy"
   ]
  },
  {
   "cell_type": "code",
   "execution_count": 12,
   "metadata": {},
   "outputs": [
    {
     "data": {
      "text/html": [
       "<div>\n",
       "<style scoped>\n",
       "    .dataframe tbody tr th:only-of-type {\n",
       "        vertical-align: middle;\n",
       "    }\n",
       "\n",
       "    .dataframe tbody tr th {\n",
       "        vertical-align: top;\n",
       "    }\n",
       "\n",
       "    .dataframe thead th {\n",
       "        text-align: right;\n",
       "    }\n",
       "</style>\n",
       "<table border=\"1\" class=\"dataframe\">\n",
       "  <thead>\n",
       "    <tr style=\"text-align: right;\">\n",
       "      <th></th>\n",
       "      <th>Pathway(ConsensusPathDB):IS</th>\n",
       "      <th>Function_description:IS</th>\n",
       "      <th>Interactions(ConsensusPathDB):IS</th>\n",
       "      <th>RVIS_percentile_EVS:IS</th>\n",
       "      <th>HIPred_Y:IS</th>\n",
       "      <th>ExAC_cnv_flag_N:IS</th>\n",
       "      <th>ExAC_cnv_flag_Y:IS</th>\n",
       "      <th>Gene damage prediction (all disease-causing genes)_High:IS</th>\n",
       "      <th>Gene damage prediction (all Mendelian disease-causing genes)_High:IS</th>\n",
       "      <th>Gene damage prediction (all Mendelian disease-causing genes)_Low:IS</th>\n",
       "      <th>clinSign</th>\n",
       "    </tr>\n",
       "  </thead>\n",
       "  <tbody>\n",
       "    <tr>\n",
       "      <th>0</th>\n",
       "      <td>1</td>\n",
       "      <td>1</td>\n",
       "      <td>0.120411</td>\n",
       "      <td>-0.406600</td>\n",
       "      <td>1</td>\n",
       "      <td>1</td>\n",
       "      <td>0</td>\n",
       "      <td>0</td>\n",
       "      <td>0</td>\n",
       "      <td>0</td>\n",
       "      <td>1</td>\n",
       "    </tr>\n",
       "    <tr>\n",
       "      <th>1</th>\n",
       "      <td>1</td>\n",
       "      <td>1</td>\n",
       "      <td>0.004651</td>\n",
       "      <td>-0.725675</td>\n",
       "      <td>1</td>\n",
       "      <td>1</td>\n",
       "      <td>0</td>\n",
       "      <td>0</td>\n",
       "      <td>0</td>\n",
       "      <td>0</td>\n",
       "      <td>1</td>\n",
       "    </tr>\n",
       "    <tr>\n",
       "      <th>2</th>\n",
       "      <td>1</td>\n",
       "      <td>1</td>\n",
       "      <td>0.004651</td>\n",
       "      <td>-0.725675</td>\n",
       "      <td>1</td>\n",
       "      <td>1</td>\n",
       "      <td>0</td>\n",
       "      <td>0</td>\n",
       "      <td>0</td>\n",
       "      <td>0</td>\n",
       "      <td>1</td>\n",
       "    </tr>\n",
       "    <tr>\n",
       "      <th>3</th>\n",
       "      <td>1</td>\n",
       "      <td>1</td>\n",
       "      <td>0.003168</td>\n",
       "      <td>0.053669</td>\n",
       "      <td>1</td>\n",
       "      <td>1</td>\n",
       "      <td>0</td>\n",
       "      <td>0</td>\n",
       "      <td>0</td>\n",
       "      <td>0</td>\n",
       "      <td>1</td>\n",
       "    </tr>\n",
       "    <tr>\n",
       "      <th>4</th>\n",
       "      <td>0</td>\n",
       "      <td>1</td>\n",
       "      <td>0.000150</td>\n",
       "      <td>-0.642293</td>\n",
       "      <td>1</td>\n",
       "      <td>1</td>\n",
       "      <td>0</td>\n",
       "      <td>0</td>\n",
       "      <td>0</td>\n",
       "      <td>0</td>\n",
       "      <td>1</td>\n",
       "    </tr>\n",
       "  </tbody>\n",
       "</table>\n",
       "</div>"
      ],
      "text/plain": [
       "   Pathway(ConsensusPathDB):IS  Function_description:IS  \\\n",
       "0                            1                        1   \n",
       "1                            1                        1   \n",
       "2                            1                        1   \n",
       "3                            1                        1   \n",
       "4                            0                        1   \n",
       "\n",
       "   Interactions(ConsensusPathDB):IS  RVIS_percentile_EVS:IS  HIPred_Y:IS  \\\n",
       "0                          0.120411               -0.406600            1   \n",
       "1                          0.004651               -0.725675            1   \n",
       "2                          0.004651               -0.725675            1   \n",
       "3                          0.003168                0.053669            1   \n",
       "4                          0.000150               -0.642293            1   \n",
       "\n",
       "   ExAC_cnv_flag_N:IS  ExAC_cnv_flag_Y:IS  \\\n",
       "0                   1                   0   \n",
       "1                   1                   0   \n",
       "2                   1                   0   \n",
       "3                   1                   0   \n",
       "4                   1                   0   \n",
       "\n",
       "   Gene damage prediction (all disease-causing genes)_High:IS  \\\n",
       "0                                                  0            \n",
       "1                                                  0            \n",
       "2                                                  0            \n",
       "3                                                  0            \n",
       "4                                                  0            \n",
       "\n",
       "   Gene damage prediction (all Mendelian disease-causing genes)_High:IS  \\\n",
       "0                                                  0                      \n",
       "1                                                  0                      \n",
       "2                                                  0                      \n",
       "3                                                  0                      \n",
       "4                                                  0                      \n",
       "\n",
       "   Gene damage prediction (all Mendelian disease-causing genes)_Low:IS  \\\n",
       "0                                                  0                     \n",
       "1                                                  0                     \n",
       "2                                                  0                     \n",
       "3                                                  0                     \n",
       "4                                                  0                     \n",
       "\n",
       "   clinSign  \n",
       "0         1  \n",
       "1         1  \n",
       "2         1  \n",
       "3         1  \n",
       "4         1  "
      ]
     },
     "execution_count": 12,
     "metadata": {},
     "output_type": "execute_result"
    }
   ],
   "source": [
    "data = pd.read_csv(\"final_data.csv\")\n",
    "data.head()"
   ]
  },
  {
   "cell_type": "code",
   "execution_count": 13,
   "metadata": {},
   "outputs": [],
   "source": [
    "input_columns = data.columns[0:10]\n",
    "output_column = data.columns[-1]"
   ]
  },
  {
   "cell_type": "code",
   "execution_count": 14,
   "metadata": {},
   "outputs": [
    {
     "data": {
      "text/html": [
       "<div>\n",
       "<style scoped>\n",
       "    .dataframe tbody tr th:only-of-type {\n",
       "        vertical-align: middle;\n",
       "    }\n",
       "\n",
       "    .dataframe tbody tr th {\n",
       "        vertical-align: top;\n",
       "    }\n",
       "\n",
       "    .dataframe thead th {\n",
       "        text-align: right;\n",
       "    }\n",
       "</style>\n",
       "<table border=\"1\" class=\"dataframe\">\n",
       "  <thead>\n",
       "    <tr style=\"text-align: right;\">\n",
       "      <th></th>\n",
       "      <th>input</th>\n",
       "      <th>output</th>\n",
       "    </tr>\n",
       "  </thead>\n",
       "  <tbody>\n",
       "    <tr>\n",
       "      <th>0</th>\n",
       "      <td>[1.0, 1.0, 0.120410661, -0.40659957, 1.0, 1.0,...</td>\n",
       "      <td>1</td>\n",
       "    </tr>\n",
       "    <tr>\n",
       "      <th>1</th>\n",
       "      <td>[1.0, 1.0, 0.00465053, -0.725674551, 1.0, 1.0,...</td>\n",
       "      <td>1</td>\n",
       "    </tr>\n",
       "    <tr>\n",
       "      <th>2</th>\n",
       "      <td>[1.0, 1.0, 0.00465053, -0.725674551, 1.0, 1.0,...</td>\n",
       "      <td>1</td>\n",
       "    </tr>\n",
       "    <tr>\n",
       "      <th>3</th>\n",
       "      <td>[1.0, 1.0, 0.003168344, 0.053668869, 1.0, 1.0,...</td>\n",
       "      <td>1</td>\n",
       "    </tr>\n",
       "    <tr>\n",
       "      <th>4</th>\n",
       "      <td>[0.0, 1.0, 0.000149578, -0.642292587, 1.0, 1.0...</td>\n",
       "      <td>1</td>\n",
       "    </tr>\n",
       "  </tbody>\n",
       "</table>\n",
       "</div>"
      ],
      "text/plain": [
       "                                               input  output\n",
       "0  [1.0, 1.0, 0.120410661, -0.40659957, 1.0, 1.0,...       1\n",
       "1  [1.0, 1.0, 0.00465053, -0.725674551, 1.0, 1.0,...       1\n",
       "2  [1.0, 1.0, 0.00465053, -0.725674551, 1.0, 1.0,...       1\n",
       "3  [1.0, 1.0, 0.003168344, 0.053668869, 1.0, 1.0,...       1\n",
       "4  [0.0, 1.0, 0.000149578, -0.642292587, 1.0, 1.0...       1"
      ]
     },
     "execution_count": 14,
     "metadata": {},
     "output_type": "execute_result"
    }
   ],
   "source": [
    "\n",
    "def toarray(row):\n",
    "    return [row[i] for i in input_columns]\n",
    "\n",
    "temp = data.apply(toarray,axis=1)\n",
    "data = pd.DataFrame(list(zip(temp,data[output_column])),columns=(\"input\",\"output\"))\n",
    "\n",
    "x = np.array(data['input'].tolist())\n",
    "y = np.array(data['output'].tolist())\n",
    "\n",
    "data.head()\n"
   ]
  },
  {
   "cell_type": "code",
   "execution_count": 15,
   "metadata": {},
   "outputs": [
    {
     "data": {
      "text/plain": [
       "array([[1.00000000e+00, 1.00000000e+00, 1.41985011e-02, ...,\n",
       "        0.00000000e+00, 0.00000000e+00, 0.00000000e+00],\n",
       "       [1.00000000e+00, 1.00000000e+00, 8.76107672e-04, ...,\n",
       "        0.00000000e+00, 0.00000000e+00, 0.00000000e+00],\n",
       "       [0.00000000e+00, 1.00000000e+00, 1.27383217e-02, ...,\n",
       "        0.00000000e+00, 0.00000000e+00, 0.00000000e+00],\n",
       "       ...,\n",
       "       [1.00000000e+00, 1.00000000e+00, 3.06331614e-01, ...,\n",
       "        0.00000000e+00, 0.00000000e+00, 0.00000000e+00],\n",
       "       [1.00000000e+00, 1.00000000e+00, 0.00000000e+00, ...,\n",
       "        0.00000000e+00, 1.00000000e+00, 0.00000000e+00],\n",
       "       [0.00000000e+00, 0.00000000e+00, 0.00000000e+00, ...,\n",
       "        0.00000000e+00, 0.00000000e+00, 0.00000000e+00]])"
      ]
     },
     "execution_count": 15,
     "metadata": {},
     "output_type": "execute_result"
    }
   ],
   "source": [
    "mms = MinMaxScaler()\n",
    "test = x.copy()\n",
    "x = mms.fit_transform(x)\n",
    "x_train, x_test, y_train, y_test = train_test_split(x, y, test_size=0.25,random_state=42)\n",
    "x_train"
   ]
  },
  {
   "cell_type": "code",
   "execution_count": 16,
   "metadata": {},
   "outputs": [],
   "source": [
    "# Compile the model\n",
    "model = Sequential([\n",
    "    Dense(16, input_dim=10, activation='relu'),\n",
    "    Dense(64, activation='sigmoid'),\n",
    "    Dense(16, activation='relu'),\n",
    "    Dense(1, activation='sigmoid')\n",
    "])\n",
    "model.compile(loss=BinaryCrossentropy(), optimizer=\"adam\", metrics=[BinaryAccuracy()])"
   ]
  },
  {
   "cell_type": "code",
   "execution_count": 17,
   "metadata": {},
   "outputs": [
    {
     "name": "stdout",
     "output_type": "stream",
     "text": [
      "Epoch 1/20\n",
      "155/155 [==============================] - 3s 7ms/step - loss: 0.6070 - binary_accuracy: 0.6950 - val_loss: 0.5804 - val_binary_accuracy: 0.7106\n",
      "Epoch 2/20\n",
      "155/155 [==============================] - 1s 4ms/step - loss: 0.5810 - binary_accuracy: 0.6974 - val_loss: 0.5611 - val_binary_accuracy: 0.7106\n",
      "Epoch 3/20\n",
      "155/155 [==============================] - 1s 4ms/step - loss: 0.5707 - binary_accuracy: 0.7104 - val_loss: 0.5597 - val_binary_accuracy: 0.7070\n",
      "Epoch 4/20\n",
      "155/155 [==============================] - 1s 5ms/step - loss: 0.5679 - binary_accuracy: 0.7112 - val_loss: 0.5618 - val_binary_accuracy: 0.7070\n",
      "Epoch 5/20\n",
      "155/155 [==============================] - 1s 4ms/step - loss: 0.5646 - binary_accuracy: 0.7142 - val_loss: 0.5548 - val_binary_accuracy: 0.7185\n",
      "Epoch 6/20\n",
      "155/155 [==============================] - 1s 4ms/step - loss: 0.5629 - binary_accuracy: 0.7199 - val_loss: 0.5533 - val_binary_accuracy: 0.7240\n",
      "Epoch 7/20\n",
      "155/155 [==============================] - 1s 4ms/step - loss: 0.5605 - binary_accuracy: 0.7189 - val_loss: 0.5534 - val_binary_accuracy: 0.7185\n",
      "Epoch 8/20\n",
      "155/155 [==============================] - 1s 4ms/step - loss: 0.5601 - binary_accuracy: 0.7203 - val_loss: 0.5546 - val_binary_accuracy: 0.7119\n",
      "Epoch 9/20\n",
      "155/155 [==============================] - 1s 5ms/step - loss: 0.5570 - binary_accuracy: 0.7236 - val_loss: 0.5507 - val_binary_accuracy: 0.7264\n",
      "Epoch 10/20\n",
      "155/155 [==============================] - 1s 4ms/step - loss: 0.5556 - binary_accuracy: 0.7280 - val_loss: 0.5502 - val_binary_accuracy: 0.7204\n",
      "Epoch 11/20\n",
      "155/155 [==============================] - 1s 5ms/step - loss: 0.5549 - binary_accuracy: 0.7262 - val_loss: 0.5482 - val_binary_accuracy: 0.7210\n",
      "Epoch 12/20\n",
      "155/155 [==============================] - 1s 4ms/step - loss: 0.5555 - binary_accuracy: 0.7258 - val_loss: 0.5469 - val_binary_accuracy: 0.7216\n",
      "Epoch 13/20\n",
      "155/155 [==============================] - 1s 5ms/step - loss: 0.5521 - binary_accuracy: 0.7250 - val_loss: 0.5508 - val_binary_accuracy: 0.7271\n",
      "Epoch 14/20\n",
      "155/155 [==============================] - 1s 4ms/step - loss: 0.5522 - binary_accuracy: 0.7331 - val_loss: 0.5473 - val_binary_accuracy: 0.7435\n",
      "Epoch 15/20\n",
      "155/155 [==============================] - 1s 5ms/step - loss: 0.5514 - binary_accuracy: 0.7369 - val_loss: 0.5434 - val_binary_accuracy: 0.7447\n",
      "Epoch 16/20\n",
      "155/155 [==============================] - 1s 4ms/step - loss: 0.5502 - binary_accuracy: 0.7325 - val_loss: 0.5438 - val_binary_accuracy: 0.7246\n",
      "Epoch 17/20\n",
      "155/155 [==============================] - 1s 5ms/step - loss: 0.5477 - binary_accuracy: 0.7398 - val_loss: 0.5438 - val_binary_accuracy: 0.7495\n",
      "Epoch 18/20\n",
      "155/155 [==============================] - 1s 4ms/step - loss: 0.5473 - binary_accuracy: 0.7410 - val_loss: 0.5413 - val_binary_accuracy: 0.7495\n",
      "Epoch 19/20\n",
      "155/155 [==============================] - 1s 5ms/step - loss: 0.5459 - binary_accuracy: 0.7430 - val_loss: 0.5412 - val_binary_accuracy: 0.7502\n",
      "Epoch 20/20\n",
      "155/155 [==============================] - 1s 5ms/step - loss: 0.5455 - binary_accuracy: 0.7438 - val_loss: 0.5410 - val_binary_accuracy: 0.7514\n"
     ]
    }
   ],
   "source": [
    "# Train the model\n",
    "history = model.fit(x_train, y_train, epochs=20, batch_size=32, validation_data=(x_test, y_test))"
   ]
  },
  {
   "cell_type": "code",
   "execution_count": 18,
   "metadata": {},
   "outputs": [
    {
     "data": {
      "image/png": "[encoded data removed]",
      "text/plain": [
       "<Figure size 640x480 with 1 Axes>"
      ]
     },
     "metadata": {},
     "output_type": "display_data"
    }
   ],
   "source": [
    "plt.plot(history.history['loss'], label='Training Loss')\n",
    "plt.plot(history.history['binary_accuracy'], label='Accuracy')\n",
    "plt.xlabel('Epochs')\n",
    "plt.ylabel('Loss')\n",
    "plt.legend()\n",
    "plt.show()"
   ]
  },
  {
   "cell_type": "code",
   "execution_count": 19,
   "metadata": {},
   "outputs": [
    {
     "name": "stdout",
     "output_type": "stream",
     "text": [
      "52/52 [==============================] - 0s 2ms/step\n"
     ]
    },
    {
     "data": {
      "text/plain": [
       "0.7513677811550152"
      ]
     },
     "execution_count": 19,
     "metadata": {},
     "output_type": "execute_result"
    }
   ],
   "source": [
    "accuracy_score(list(map(lambda x: round(x[0]),model.predict(x_test))), y_test)\n"
   ]
  },
  {
   "cell_type": "code",
   "execution_count": 20,
   "metadata": {},
   "outputs": [
    {
     "name": "stdout",
     "output_type": "stream",
     "text": [
      "155/155 [==============================] - 0s 3ms/step\n"
     ]
    },
    {
     "data": {
      "text/plain": [
       "0.7513173895419538"
      ]
     },
     "execution_count": 20,
     "metadata": {},
     "output_type": "execute_result"
    }
   ],
   "source": [
    "\n",
    "accuracy_score(list(map(lambda x: round(x[0]),model.predict(x_train))), y_train)\n"
   ]
  }
 ],
 "metadata": {
  "kernelspec": {
   "display_name": "learning",
   "language": "python",
   "name": "python3"
  },
  "language_info": {
   "codemirror_mode": {
    "name": "ipython",
    "version": 3
   },
   "file_extension": ".py",
   "mimetype": "text/x-python",
   "name": "python",
   "nbconvert_exporter": "python",
   "pygments_lexer": "ipython3",
   "version": "3.11.7"
  }
 },
 "nbformat": 4,
 "nbformat_minor": 2
}
