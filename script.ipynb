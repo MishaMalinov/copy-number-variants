{
 "cells": [
  {
   "cell_type": "code",
   "execution_count": 31,
   "metadata": {},
   "outputs": [],
   "source": [
    "import numpy as np\n",
    "import pandas as pd\n",
    "import matplotlib.pyplot as plt\n",
    "import tensorflow as tf\n",
    "from sklearn.metrics import accuracy_score\n",
    "from sklearn.model_selection import train_test_split\n",
    "from sklearn.preprocessing import MinMaxScaler\n"
   ]
  },
  {
   "cell_type": "code",
   "execution_count": 32,
   "metadata": {},
   "outputs": [],
   "source": [
    "from keras.layers import Dense\n",
    "from keras.models import Sequential\n",
    "from keras.losses import BinaryCrossentropy\n",
    "from keras.metrics import BinaryAccuracy"
   ]
  },
  {
   "cell_type": "code",
   "execution_count": 33,
   "metadata": {},
   "outputs": [
    {
     "data": {
      "text/html": [
       "<div>\n",
       "<style scoped>\n",
       "    .dataframe tbody tr th:only-of-type {\n",
       "        vertical-align: middle;\n",
       "    }\n",
       "\n",
       "    .dataframe tbody tr th {\n",
       "        vertical-align: top;\n",
       "    }\n",
       "\n",
       "    .dataframe thead th {\n",
       "        text-align: right;\n",
       "    }\n",
       "</style>\n",
       "<table border=\"1\" class=\"dataframe\">\n",
       "  <thead>\n",
       "    <tr style=\"text-align: right;\">\n",
       "      <th></th>\n",
       "      <th>Pathway(ConsensusPathDB):IS</th>\n",
       "      <th>Function_description:IS</th>\n",
       "      <th>Interactions(ConsensusPathDB):IS</th>\n",
       "      <th>RVIS_percentile_EVS:IS</th>\n",
       "      <th>HIPred_Y:IS</th>\n",
       "      <th>ExAC_cnv_flag_N:IS</th>\n",
       "      <th>ExAC_cnv_flag_Y:IS</th>\n",
       "      <th>Gene damage prediction (all disease-causing genes)_High:IS</th>\n",
       "      <th>Gene damage prediction (all Mendelian disease-causing genes)_High:IS</th>\n",
       "      <th>Gene damage prediction (all Mendelian disease-causing genes)_Low:IS</th>\n",
       "      <th>clinSign</th>\n",
       "    </tr>\n",
       "  </thead>\n",
       "  <tbody>\n",
       "    <tr>\n",
       "      <th>0</th>\n",
       "      <td>1</td>\n",
       "      <td>1</td>\n",
       "      <td>0.120411</td>\n",
       "      <td>-0.406600</td>\n",
       "      <td>1</td>\n",
       "      <td>1</td>\n",
       "      <td>0</td>\n",
       "      <td>0</td>\n",
       "      <td>0</td>\n",
       "      <td>0</td>\n",
       "      <td>1</td>\n",
       "    </tr>\n",
       "    <tr>\n",
       "      <th>1</th>\n",
       "      <td>1</td>\n",
       "      <td>1</td>\n",
       "      <td>0.004651</td>\n",
       "      <td>-0.725675</td>\n",
       "      <td>1</td>\n",
       "      <td>1</td>\n",
       "      <td>0</td>\n",
       "      <td>0</td>\n",
       "      <td>0</td>\n",
       "      <td>0</td>\n",
       "      <td>1</td>\n",
       "    </tr>\n",
       "    <tr>\n",
       "      <th>2</th>\n",
       "      <td>1</td>\n",
       "      <td>1</td>\n",
       "      <td>0.004651</td>\n",
       "      <td>-0.725675</td>\n",
       "      <td>1</td>\n",
       "      <td>1</td>\n",
       "      <td>0</td>\n",
       "      <td>0</td>\n",
       "      <td>0</td>\n",
       "      <td>0</td>\n",
       "      <td>1</td>\n",
       "    </tr>\n",
       "    <tr>\n",
       "      <th>3</th>\n",
       "      <td>1</td>\n",
       "      <td>1</td>\n",
       "      <td>0.003168</td>\n",
       "      <td>0.053669</td>\n",
       "      <td>1</td>\n",
       "      <td>1</td>\n",
       "      <td>0</td>\n",
       "      <td>0</td>\n",
       "      <td>0</td>\n",
       "      <td>0</td>\n",
       "      <td>1</td>\n",
       "    </tr>\n",
       "    <tr>\n",
       "      <th>4</th>\n",
       "      <td>0</td>\n",
       "      <td>1</td>\n",
       "      <td>0.000150</td>\n",
       "      <td>-0.642293</td>\n",
       "      <td>1</td>\n",
       "      <td>1</td>\n",
       "      <td>0</td>\n",
       "      <td>0</td>\n",
       "      <td>0</td>\n",
       "      <td>0</td>\n",
       "      <td>1</td>\n",
       "    </tr>\n",
       "  </tbody>\n",
       "</table>\n",
       "</div>"
      ],
      "text/plain": [
       "   Pathway(ConsensusPathDB):IS  Function_description:IS  \\\n",
       "0                            1                        1   \n",
       "1                            1                        1   \n",
       "2                            1                        1   \n",
       "3                            1                        1   \n",
       "4                            0                        1   \n",
       "\n",
       "   Interactions(ConsensusPathDB):IS  RVIS_percentile_EVS:IS  HIPred_Y:IS  \\\n",
       "0                          0.120411               -0.406600            1   \n",
       "1                          0.004651               -0.725675            1   \n",
       "2                          0.004651               -0.725675            1   \n",
       "3                          0.003168                0.053669            1   \n",
       "4                          0.000150               -0.642293            1   \n",
       "\n",
       "   ExAC_cnv_flag_N:IS  ExAC_cnv_flag_Y:IS  \\\n",
       "0                   1                   0   \n",
       "1                   1                   0   \n",
       "2                   1                   0   \n",
       "3                   1                   0   \n",
       "4                   1                   0   \n",
       "\n",
       "   Gene damage prediction (all disease-causing genes)_High:IS  \\\n",
       "0                                                  0            \n",
       "1                                                  0            \n",
       "2                                                  0            \n",
       "3                                                  0            \n",
       "4                                                  0            \n",
       "\n",
       "   Gene damage prediction (all Mendelian disease-causing genes)_High:IS  \\\n",
       "0                                                  0                      \n",
       "1                                                  0                      \n",
       "2                                                  0                      \n",
       "3                                                  0                      \n",
       "4                                                  0                      \n",
       "\n",
       "   Gene damage prediction (all Mendelian disease-causing genes)_Low:IS  \\\n",
       "0                                                  0                     \n",
       "1                                                  0                     \n",
       "2                                                  0                     \n",
       "3                                                  0                     \n",
       "4                                                  0                     \n",
       "\n",
       "   clinSign  \n",
       "0         1  \n",
       "1         1  \n",
       "2         1  \n",
       "3         1  \n",
       "4         1  "
      ]
     },
     "execution_count": 33,
     "metadata": {},
     "output_type": "execute_result"
    }
   ],
   "source": [
    "data = pd.read_csv(\"final_data.csv\")\n",
    "data.head()"
   ]
  },
  {
   "cell_type": "code",
   "execution_count": 35,
   "metadata": {},
   "outputs": [],
   "source": [
    "input_columns = data.columns[0:10]\n",
    "output_column = data.columns[-1]"
   ]
  },
  {
   "cell_type": "code",
   "execution_count": 36,
   "metadata": {},
   "outputs": [
    {
     "data": {
      "text/html": [
       "<div>\n",
       "<style scoped>\n",
       "    .dataframe tbody tr th:only-of-type {\n",
       "        vertical-align: middle;\n",
       "    }\n",
       "\n",
       "    .dataframe tbody tr th {\n",
       "        vertical-align: top;\n",
       "    }\n",
       "\n",
       "    .dataframe thead th {\n",
       "        text-align: right;\n",
       "    }\n",
       "</style>\n",
       "<table border=\"1\" class=\"dataframe\">\n",
       "  <thead>\n",
       "    <tr style=\"text-align: right;\">\n",
       "      <th></th>\n",
       "      <th>input</th>\n",
       "      <th>output</th>\n",
       "    </tr>\n",
       "  </thead>\n",
       "  <tbody>\n",
       "    <tr>\n",
       "      <th>0</th>\n",
       "      <td>[1.0, 1.0, 0.120410661, -0.40659957, 1.0, 1.0,...</td>\n",
       "      <td>1</td>\n",
       "    </tr>\n",
       "    <tr>\n",
       "      <th>1</th>\n",
       "      <td>[1.0, 1.0, 0.00465053, -0.725674551, 1.0, 1.0,...</td>\n",
       "      <td>1</td>\n",
       "    </tr>\n",
       "    <tr>\n",
       "      <th>2</th>\n",
       "      <td>[1.0, 1.0, 0.00465053, -0.725674551, 1.0, 1.0,...</td>\n",
       "      <td>1</td>\n",
       "    </tr>\n",
       "    <tr>\n",
       "      <th>3</th>\n",
       "      <td>[1.0, 1.0, 0.003168344, 0.053668869, 1.0, 1.0,...</td>\n",
       "      <td>1</td>\n",
       "    </tr>\n",
       "    <tr>\n",
       "      <th>4</th>\n",
       "      <td>[0.0, 1.0, 0.000149578, -0.642292587, 1.0, 1.0...</td>\n",
       "      <td>1</td>\n",
       "    </tr>\n",
       "  </tbody>\n",
       "</table>\n",
       "</div>"
      ],
      "text/plain": [
       "                                               input  output\n",
       "0  [1.0, 1.0, 0.120410661, -0.40659957, 1.0, 1.0,...       1\n",
       "1  [1.0, 1.0, 0.00465053, -0.725674551, 1.0, 1.0,...       1\n",
       "2  [1.0, 1.0, 0.00465053, -0.725674551, 1.0, 1.0,...       1\n",
       "3  [1.0, 1.0, 0.003168344, 0.053668869, 1.0, 1.0,...       1\n",
       "4  [0.0, 1.0, 0.000149578, -0.642292587, 1.0, 1.0...       1"
      ]
     },
     "execution_count": 36,
     "metadata": {},
     "output_type": "execute_result"
    }
   ],
   "source": [
    "\n",
    "def toarray(row):\n",
    "    return [row[i] for i in input_columns]\n",
    "\n",
    "temp = data.apply(toarray,axis=1)\n",
    "data = pd.DataFrame(list(zip(temp,data[output_column])),columns=(\"input\",\"output\"))\n",
    "\n",
    "x = np.array(data['input'].tolist())\n",
    "y = np.array(data['output'].tolist())\n",
    "\n",
    "data.head()\n"
   ]
  },
  {
   "cell_type": "code",
   "execution_count": 37,
   "metadata": {},
   "outputs": [
    {
     "data": {
      "text/plain": [
       "array([[1.00000000e+00, 1.00000000e+00, 1.41985011e-02, ...,\n",
       "        0.00000000e+00, 0.00000000e+00, 0.00000000e+00],\n",
       "       [1.00000000e+00, 1.00000000e+00, 8.76107672e-04, ...,\n",
       "        0.00000000e+00, 0.00000000e+00, 0.00000000e+00],\n",
       "       [0.00000000e+00, 1.00000000e+00, 1.27383217e-02, ...,\n",
       "        0.00000000e+00, 0.00000000e+00, 0.00000000e+00],\n",
       "       ...,\n",
       "       [1.00000000e+00, 1.00000000e+00, 3.06331614e-01, ...,\n",
       "        0.00000000e+00, 0.00000000e+00, 0.00000000e+00],\n",
       "       [1.00000000e+00, 1.00000000e+00, 0.00000000e+00, ...,\n",
       "        0.00000000e+00, 1.00000000e+00, 0.00000000e+00],\n",
       "       [0.00000000e+00, 0.00000000e+00, 0.00000000e+00, ...,\n",
       "        0.00000000e+00, 0.00000000e+00, 0.00000000e+00]])"
      ]
     },
     "execution_count": 37,
     "metadata": {},
     "output_type": "execute_result"
    }
   ],
   "source": [
    "mms = MinMaxScaler()\n",
    "test = x.copy()\n",
    "x = mms.fit_transform(x)\n",
    "x_train, x_test, y_train, y_test = train_test_split(x, y, test_size=0.25,random_state=42)\n",
    "x_train"
   ]
  },
  {
   "cell_type": "code",
   "execution_count": 38,
   "metadata": {},
   "outputs": [],
   "source": [
    "# Compile the model\n",
    "model = tf.keras.Sequential([\n",
    "    Dense(16, input_dim=10, activation='relu'),\n",
    "    Dense(64, activation='sigmoid'),\n",
    "    Dense(16, activation='relu'),\n",
    "    Dense(1, activation='sigmoid')\n",
    "])\n",
    "model.compile(loss=BinaryCrossentropy(), optimizer=\"adam\", metrics=[BinaryAccuracy()])"
   ]
  },
  {
   "cell_type": "code",
   "execution_count": 39,
   "metadata": {},
   "outputs": [
    {
     "name": "stdout",
     "output_type": "stream",
     "text": [
      "Epoch 1/20\n"
     ]
    },
    {
     "name": "stdout",
     "output_type": "stream",
     "text": [
      "155/155 [==============================] - 1s 2ms/step - loss: 0.6101 - binary_accuracy: 0.6915 - val_loss: 0.5852 - val_binary_accuracy: 0.7106\n",
      "Epoch 2/20\n",
      "155/155 [==============================] - 0s 1ms/step - loss: 0.5843 - binary_accuracy: 0.6980 - val_loss: 0.5636 - val_binary_accuracy: 0.7149\n",
      "Epoch 3/20\n",
      "155/155 [==============================] - 0s 1ms/step - loss: 0.5682 - binary_accuracy: 0.7110 - val_loss: 0.5571 - val_binary_accuracy: 0.7313\n",
      "Epoch 4/20\n",
      "155/155 [==============================] - 0s 1ms/step - loss: 0.5643 - binary_accuracy: 0.7169 - val_loss: 0.5589 - val_binary_accuracy: 0.7131\n",
      "Epoch 5/20\n",
      "155/155 [==============================] - 0s 1ms/step - loss: 0.5629 - binary_accuracy: 0.7179 - val_loss: 0.5535 - val_binary_accuracy: 0.7240\n",
      "Epoch 6/20\n",
      "155/155 [==============================] - 0s 1ms/step - loss: 0.5594 - binary_accuracy: 0.7215 - val_loss: 0.5521 - val_binary_accuracy: 0.7307\n",
      "Epoch 7/20\n",
      "155/155 [==============================] - 0s 994us/step - loss: 0.5564 - binary_accuracy: 0.7233 - val_loss: 0.5588 - val_binary_accuracy: 0.7240\n",
      "Epoch 8/20\n",
      "155/155 [==============================] - 0s 1ms/step - loss: 0.5602 - binary_accuracy: 0.7177 - val_loss: 0.5510 - val_binary_accuracy: 0.7301\n",
      "Epoch 9/20\n",
      "155/155 [==============================] - 0s 1ms/step - loss: 0.5551 - binary_accuracy: 0.7284 - val_loss: 0.5514 - val_binary_accuracy: 0.7222\n",
      "Epoch 10/20\n",
      "155/155 [==============================] - 0s 1ms/step - loss: 0.5549 - binary_accuracy: 0.7282 - val_loss: 0.5494 - val_binary_accuracy: 0.7325\n",
      "Epoch 11/20\n",
      "155/155 [==============================] - 0s 1ms/step - loss: 0.5536 - binary_accuracy: 0.7286 - val_loss: 0.5484 - val_binary_accuracy: 0.7362\n",
      "Epoch 12/20\n",
      "155/155 [==============================] - 0s 1ms/step - loss: 0.5520 - binary_accuracy: 0.7321 - val_loss: 0.5479 - val_binary_accuracy: 0.7264\n",
      "Epoch 13/20\n",
      "155/155 [==============================] - 0s 1ms/step - loss: 0.5511 - binary_accuracy: 0.7379 - val_loss: 0.5481 - val_binary_accuracy: 0.7416\n",
      "Epoch 14/20\n",
      "155/155 [==============================] - 0s 1ms/step - loss: 0.5520 - binary_accuracy: 0.7282 - val_loss: 0.5504 - val_binary_accuracy: 0.7374\n",
      "Epoch 15/20\n",
      "155/155 [==============================] - 0s 1ms/step - loss: 0.5499 - binary_accuracy: 0.7388 - val_loss: 0.5466 - val_binary_accuracy: 0.7465\n",
      "Epoch 16/20\n",
      "155/155 [==============================] - 0s 1ms/step - loss: 0.5489 - binary_accuracy: 0.7347 - val_loss: 0.5456 - val_binary_accuracy: 0.7477\n",
      "Epoch 17/20\n",
      "155/155 [==============================] - 0s 1ms/step - loss: 0.5486 - binary_accuracy: 0.7406 - val_loss: 0.5456 - val_binary_accuracy: 0.7447\n",
      "Epoch 18/20\n",
      "155/155 [==============================] - 0s 1ms/step - loss: 0.5478 - binary_accuracy: 0.7375 - val_loss: 0.5444 - val_binary_accuracy: 0.7447\n",
      "Epoch 19/20\n",
      "155/155 [==============================] - 0s 1ms/step - loss: 0.5476 - binary_accuracy: 0.7428 - val_loss: 0.5453 - val_binary_accuracy: 0.7252\n",
      "Epoch 20/20\n",
      "155/155 [==============================] - 0s 1ms/step - loss: 0.5482 - binary_accuracy: 0.7357 - val_loss: 0.5466 - val_binary_accuracy: 0.7350\n"
     ]
    }
   ],
   "source": [
    "# Train the model\n",
    "history = model.fit(x_train, y_train, epochs=20, batch_size=32, validation_data=(x_test, y_test))"
   ]
  },
  {
   "cell_type": "code",
   "execution_count": 40,
   "metadata": {},
   "outputs": [
    {
     "data": {
      "image/png": "[encoded data removed]",
      "text/plain": [
       "<Figure size 640x480 with 1 Axes>"
      ]
     },
     "metadata": {},
     "output_type": "display_data"
    }
   ],
   "source": [
    "plt.plot(history.history['loss'], label='Training Loss')\n",
    "plt.plot(history.history['binary_accuracy'], label='Accuracy')\n",
    "plt.xlabel('Epochs')\n",
    "plt.ylabel('Loss')\n",
    "plt.legend()\n",
    "plt.show()"
   ]
  },
  {
   "cell_type": "code",
   "execution_count": 41,
   "metadata": {},
   "outputs": [
    {
     "name": "stdout",
     "output_type": "stream",
     "text": [
      "52/52 [==============================] - 0s 913us/step\n"
     ]
    },
    {
     "data": {
      "text/plain": [
       "0.7349544072948329"
      ]
     },
     "execution_count": 41,
     "metadata": {},
     "output_type": "execute_result"
    }
   ],
   "source": [
    "accuracy_score(list(map(lambda x: round(x[0]),model.predict(x_test))), y_test)\n"
   ]
  },
  {
   "cell_type": "code",
   "execution_count": 42,
   "metadata": {},
   "outputs": [
    {
     "name": "stdout",
     "output_type": "stream",
     "text": [
      "155/155 [==============================] - 0s 586us/step\n"
     ]
    },
    {
     "data": {
      "text/plain": [
       "0.7324685853263072"
      ]
     },
     "execution_count": 42,
     "metadata": {},
     "output_type": "execute_result"
    }
   ],
   "source": [
    "\n",
    "accuracy_score(list(map(lambda x: round(x[0]),model.predict(x_train))), y_train)\n"
   ]
  },
  {
   "cell_type": "markdown",
   "metadata": {},
   "source": [
    "# BIAS!!!!\n",
    "\n",
    "Máme preučený model a nerobí to čo chceme aby robil. To čo robí náš model, je, že predikuje 1 a nejako nerieši čo sa nachádza v dátach:"
   ]
  },
  {
   "cell_type": "code",
   "execution_count": 65,
   "metadata": {},
   "outputs": [
    {
     "name": "stdout",
     "output_type": "stream",
     "text": [
      "Jednotky: 4612 \n",
      "Nuly: 1967\n"
     ]
    }
   ],
   "source": [
    "#Doplnene\n",
    "data = pd.read_csv(\"final_data.csv\")\n",
    "ones = (data['clinSign'] == 1).sum()\n",
    "zeros = (data['clinSign'] == 0).sum()\n",
    "print('Jednotky:', ones, '\\nNuly:', zeros)"
   ]
  },
  {
   "cell_type": "code",
   "execution_count": 66,
   "metadata": {},
   "outputs": [
    {
     "data": {
      "text/plain": [
       "0.2989816081471348"
      ]
     },
     "execution_count": 66,
     "metadata": {},
     "output_type": "execute_result"
    }
   ],
   "source": [
    "zeros/(zeros+ones)"
   ]
  },
  {
   "cell_type": "code",
   "execution_count": 67,
   "metadata": {},
   "outputs": [
    {
     "data": {
      "text/plain": [
       "0.7010183918528652"
      ]
     },
     "execution_count": 67,
     "metadata": {},
     "output_type": "execute_result"
    }
   ],
   "source": [
    "ones/(zeros+ones)"
   ]
  },
  {
   "cell_type": "code",
   "execution_count": 70,
   "metadata": {},
   "outputs": [],
   "source": [
    "zeros_indices = np.where(y_train == 0)[0]\n",
    "ones_indices = np.where(y_train == 1)[0]"
   ]
  },
  {
   "cell_type": "code",
   "execution_count": 103,
   "metadata": {},
   "outputs": [
    {
     "data": {
      "text/plain": [
       "(4934,)"
      ]
     },
     "execution_count": 103,
     "metadata": {},
     "output_type": "execute_result"
    }
   ],
   "source": [
    "y_train.shape"
   ]
  },
  {
   "cell_type": "code",
   "execution_count": 99,
   "metadata": {},
   "outputs": [
    {
     "name": "stdout",
     "output_type": "stream",
     "text": [
      "15/15 [==============================] - 0s 768us/step - loss: 1.2221 - binary_accuracy: 0.1681\n",
      "Accuracy for test data with zeros: 0.16806723177433014\n",
      "37/37 [==============================] - 0s 671us/step - loss: 0.2716 - binary_accuracy: 0.9658\n",
      "Accuracy for test data with ones: 0.9657827019691467\n"
     ]
    }
   ],
   "source": [
    "x_test_zeros = x_test[y_test == 0]\n",
    "y_test_zeros = y_test[y_test == 0]\n",
    "\n",
    "x_test_ones = x_test[y_test == 1]\n",
    "y_test_ones = y_test[y_test == 1]\n",
    "\n",
    "# Evaluate the model on the subset with zeros\n",
    "loss_zeros, accuracy_zeros = model.evaluate(x_test_zeros, y_test_zeros)\n",
    "print(f\"Accuracy for test data with zeros: {accuracy_zeros}\")\n",
    "\n",
    "# Evaluate the model on the subset with ones\n",
    "loss_ones, accuracy_ones = model.evaluate(x_test_ones, y_test_ones)\n",
    "print(f\"Accuracy for test data with ones: {accuracy_ones}\")"
   ]
  },
  {
   "cell_type": "markdown",
   "metadata": {},
   "source": [
    "Vyberieme si indexy tak aby sme mali vyvážený trénovací datset čo sa týka atribútu `clinSign`"
   ]
  },
  {
   "cell_type": "code",
   "execution_count": 87,
   "metadata": {},
   "outputs": [],
   "source": [
    "# Find the smaller count to balance the dataset\n",
    "n_samples = min(len(zeros_indices), len(ones_indices))\n",
    "\n",
    "# Randomly select n_samples from each class\n",
    "np.random.seed(42)  # For reproducibility\n",
    "selected_zeros_indices = np.random.choice(zeros_indices, n_samples, replace=False)\n",
    "selected_ones_indices = np.random.choice(ones_indices, n_samples, replace=False)\n",
    "\n",
    "# Combine and shuffle the indices\n",
    "balanced_indices = np.concatenate([selected_zeros_indices, selected_ones_indices])\n",
    "np.random.shuffle(balanced_indices)\n",
    "\n",
    "# Create balanced training sets\n",
    "x_train_balanced = x_train[balanced_indices]\n",
    "y_train_balanced = y_train[balanced_indices]\n",
    "\n",
    "# Scaling the features\n",
    "mms = MinMaxScaler()\n",
    "x_train_balanced = mms.fit_transform(x_train_balanced)\n",
    "x_test = mms.transform(x_test)"
   ]
  },
  {
   "cell_type": "code",
   "execution_count": 95,
   "metadata": {},
   "outputs": [
    {
     "name": "stdout",
     "output_type": "stream",
     "text": [
      "Jednotky: 1491 \n",
      "Nuly: 1491\n",
      "\n",
      "Testovacia množina:\n",
      "Jednotky: 1169 \n",
      "Nuly: 476\n"
     ]
    }
   ],
   "source": [
    "ones = (y_train_balanced == 1).sum()\n",
    "zeros = (y_train_balanced == 0).sum()\n",
    "print('Jednotky:', ones, '\\nNuly:', zeros)\n",
    "\n",
    "\n",
    "ones = (y_test == 1).sum()\n",
    "zeros = (y_test == 0).sum()\n",
    "print('\\nTestovacia množina:\\nJednotky:', ones, '\\nNuly:', zeros)"
   ]
  },
  {
   "cell_type": "code",
   "execution_count": 89,
   "metadata": {},
   "outputs": [
    {
     "name": "stdout",
     "output_type": "stream",
     "text": [
      "Epoch 1/20\n",
      "94/94 [==============================] - 0s 2ms/step - loss: 0.6941 - binary_accuracy: 0.5184 - val_loss: 0.7074 - val_binary_accuracy: 0.3112\n",
      "Epoch 2/20\n",
      "94/94 [==============================] - 0s 1ms/step - loss: 0.6809 - binary_accuracy: 0.5734 - val_loss: 0.6539 - val_binary_accuracy: 0.6377\n",
      "Epoch 3/20\n",
      "94/94 [==============================] - 0s 1ms/step - loss: 0.6542 - binary_accuracy: 0.6425 - val_loss: 0.6328 - val_binary_accuracy: 0.6201\n",
      "Epoch 4/20\n",
      "94/94 [==============================] - 0s 1ms/step - loss: 0.6432 - binary_accuracy: 0.6368 - val_loss: 0.6833 - val_binary_accuracy: 0.5787\n",
      "Epoch 5/20\n",
      "94/94 [==============================] - 0s 2ms/step - loss: 0.6432 - binary_accuracy: 0.6388 - val_loss: 0.6429 - val_binary_accuracy: 0.6176\n",
      "Epoch 6/20\n",
      "94/94 [==============================] - 0s 1ms/step - loss: 0.6426 - binary_accuracy: 0.6422 - val_loss: 0.6621 - val_binary_accuracy: 0.6182\n",
      "Epoch 7/20\n",
      "94/94 [==============================] - 0s 1ms/step - loss: 0.6391 - binary_accuracy: 0.6402 - val_loss: 0.6109 - val_binary_accuracy: 0.6401\n",
      "Epoch 8/20\n",
      "94/94 [==============================] - 0s 1ms/step - loss: 0.6381 - binary_accuracy: 0.6439 - val_loss: 0.6273 - val_binary_accuracy: 0.6340\n",
      "Epoch 9/20\n",
      "94/94 [==============================] - 0s 1ms/step - loss: 0.6404 - binary_accuracy: 0.6432 - val_loss: 0.6268 - val_binary_accuracy: 0.6304\n",
      "Epoch 10/20\n",
      "94/94 [==============================] - 0s 1ms/step - loss: 0.6377 - binary_accuracy: 0.6429 - val_loss: 0.6416 - val_binary_accuracy: 0.6243\n",
      "Epoch 11/20\n",
      "94/94 [==============================] - 0s 1ms/step - loss: 0.6380 - binary_accuracy: 0.6385 - val_loss: 0.6242 - val_binary_accuracy: 0.6340\n",
      "Epoch 12/20\n",
      "94/94 [==============================] - 0s 1ms/step - loss: 0.6354 - binary_accuracy: 0.6479 - val_loss: 0.6575 - val_binary_accuracy: 0.6261\n",
      "Epoch 13/20\n",
      "94/94 [==============================] - 0s 1ms/step - loss: 0.6361 - binary_accuracy: 0.6392 - val_loss: 0.6189 - val_binary_accuracy: 0.6395\n",
      "Epoch 14/20\n",
      "94/94 [==============================] - 0s 1ms/step - loss: 0.6340 - binary_accuracy: 0.6435 - val_loss: 0.6223 - val_binary_accuracy: 0.6377\n",
      "Epoch 15/20\n",
      "94/94 [==============================] - 0s 1ms/step - loss: 0.6335 - binary_accuracy: 0.6465 - val_loss: 0.6168 - val_binary_accuracy: 0.6426\n",
      "Epoch 16/20\n",
      "94/94 [==============================] - 0s 1ms/step - loss: 0.6325 - binary_accuracy: 0.6425 - val_loss: 0.6017 - val_binary_accuracy: 0.6565\n",
      "Epoch 17/20\n",
      "94/94 [==============================] - 0s 1ms/step - loss: 0.6342 - binary_accuracy: 0.6429 - val_loss: 0.6488 - val_binary_accuracy: 0.6334\n",
      "Epoch 18/20\n",
      "94/94 [==============================] - 0s 1ms/step - loss: 0.6317 - binary_accuracy: 0.6469 - val_loss: 0.5949 - val_binary_accuracy: 0.6602\n",
      "Epoch 19/20\n",
      "94/94 [==============================] - 0s 1ms/step - loss: 0.6299 - binary_accuracy: 0.6476 - val_loss: 0.6895 - val_binary_accuracy: 0.5781\n",
      "Epoch 20/20\n",
      "94/94 [==============================] - 0s 1ms/step - loss: 0.6337 - binary_accuracy: 0.6429 - val_loss: 0.6153 - val_binary_accuracy: 0.6480\n"
     ]
    },
    {
     "data": {
      "image/png": "[encoded data removed]",
      "text/plain": [
       "<Figure size 640x480 with 1 Axes>"
      ]
     },
     "metadata": {},
     "output_type": "display_data"
    }
   ],
   "source": [
    "# Compile the model\n",
    "model_balanced = tf.keras.Sequential([\n",
    "    Dense(16, input_dim=10, activation='relu'),\n",
    "    Dense(64, activation='sigmoid'),\n",
    "    Dense(16, activation='relu'),\n",
    "    Dense(1, activation='sigmoid')\n",
    "])\n",
    "model_balanced.compile(loss=BinaryCrossentropy(), optimizer=\"adam\", metrics=[BinaryAccuracy()])\n",
    "\n",
    "history = model_balanced.fit(x_train_balanced, y_train_balanced, epochs=20, batch_size=32, validation_data=(x_test, y_test))\n",
    "\n",
    "plt.plot(history.history['loss'], label='Training Loss')\n",
    "plt.plot(history.history['binary_accuracy'], label='Accuracy')\n",
    "plt.xlabel('Epochs')\n",
    "plt.ylabel('Loss')\n",
    "plt.legend()\n",
    "plt.show()"
   ]
  },
  {
   "cell_type": "code",
   "execution_count": 96,
   "metadata": {},
   "outputs": [
    {
     "name": "stdout",
     "output_type": "stream",
     "text": [
      "52/52 [==============================] - 0s 807us/step - loss: 0.6153 - binary_accuracy: 0.6480\n",
      "Test Loss: 0.615252673625946\n",
      "Test Accuracy: 0.648024320602417\n"
     ]
    }
   ],
   "source": [
    "# Evaluate the model on test data\n",
    "loss, accuracy = model_balanced.evaluate(x_test, y_test)\n",
    "\n",
    "print(f\"Test Loss: {loss}\")\n",
    "print(f\"Test Accuracy: {accuracy}\")"
   ]
  },
  {
   "cell_type": "code",
   "execution_count": 97,
   "metadata": {},
   "outputs": [
    {
     "data": {
      "image/png": "[encoded data removed]",
      "text/plain": [
       "<Figure size 640x480 with 1 Axes>"
      ]
     },
     "metadata": {},
     "output_type": "display_data"
    }
   ],
   "source": [
    "\n",
    "# Plot training & validation accuracy values\n",
    "plt.plot(history.history['binary_accuracy'])\n",
    "plt.plot(history.history['val_binary_accuracy'])\n",
    "plt.title('Model accuracy')\n",
    "plt.ylabel('Accuracy')\n",
    "plt.xlabel('Epoch')\n",
    "plt.legend(['Train', 'Test'], loc='upper left')\n",
    "plt.show()"
   ]
  },
  {
   "cell_type": "code",
   "execution_count": 100,
   "metadata": {},
   "outputs": [
    {
     "name": "stdout",
     "output_type": "stream",
     "text": [
      "15/15 [==============================] - 0s 730us/step - loss: 0.6831 - binary_accuracy: 0.6134\n",
      "Accuracy for test data with zeros: 0.6134454011917114\n",
      "37/37 [==============================] - 0s 608us/step - loss: 0.5876 - binary_accuracy: 0.6621\n",
      "Accuracy for test data with ones: 0.6621043682098389\n"
     ]
    }
   ],
   "source": [
    "# Evaluate the model on the subset with zeros\n",
    "loss_zeros, accuracy_zeros = model_balanced.evaluate(x_test_zeros, y_test_zeros)\n",
    "print(f\"Accuracy for test data with zeros: {accuracy_zeros}\")\n",
    "\n",
    "# Evaluate the model on the subset with ones\n",
    "loss_ones, accuracy_ones = model_balanced.evaluate(x_test_ones, y_test_ones)\n",
    "print(f\"Accuracy for test data with ones: {accuracy_ones}\")\n"
   ]
  }
 ],
 "metadata": {
  "kernelspec": {
   "display_name": "learning",
   "language": "python",
   "name": "python3"
  },
  "language_info": {
   "codemirror_mode": {
    "name": "ipython",
    "version": 3
   },
   "file_extension": ".py",
   "mimetype": "text/x-python",
   "name": "python",
   "nbconvert_exporter": "python",
   "pygments_lexer": "ipython3",
   "version": "3.10.12"
  }
 },
 "nbformat": 4,
 "nbformat_minor": 2
}
