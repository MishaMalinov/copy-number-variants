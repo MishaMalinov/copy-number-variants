{
 "cells": [
  {
   "cell_type": "markdown",
   "metadata": {},
   "source": [
    "# Metaprediktor pre CNV"
   ]
  },
  {
   "cell_type": "markdown",
   "metadata": {},
   "source": [
    "Importing all needed packages"
   ]
  },
  {
   "cell_type": "code",
   "execution_count": 185,
   "metadata": {},
   "outputs": [],
   "source": [
    "import pandas as pd\n",
    "import numpy as np\n",
    "import glob\n",
    "import gzip\n",
    "import json\n",
    "import keras\n",
    "import matplotlib.pyplot as plt\n",
    "from sklearn.model_selection import train_test_split\n",
    "from sklearn.preprocessing import MinMaxScaler\n",
    "from sklearn.feature_selection import SelectKBest, f_classif\n",
    "from keras.layers import Dense\n",
    "from keras.models import Sequential\n"
   ]
  },
  {
   "cell_type": "markdown",
   "metadata": {},
   "source": [
    "Reading all annotated cnvs"
   ]
  },
  {
   "cell_type": "code",
   "execution_count": 186,
   "metadata": {},
   "outputs": [
    {
     "name": "stderr",
     "output_type": "stream",
     "text": [
      "C:\\Users\\misha\\AppData\\Local\\Temp\\ipykernel_8068\\3198203531.py:32: FutureWarning: Downcasting behavior in `replace` is deprecated and will be removed in a future version. To retain the old behavior, explicitly call `result.infer_objects(copy=False)`. To opt-in to the future behavior, set `pd.set_option('future.no_silent_downcasting', True)`\n",
      "  annotated_df['cnv_type'] = annotated_df['cnv_type'].replace({'gain': 1, 'loss': 0})\n"
     ]
    }
   ],
   "source": [
    "folder_path = \".././data/annotated_cnvs_json\"  # Change this to your folder path\n",
    "\n",
    "# Get a list of filenames matching the pattern \"*.json.gz\" in the folder\n",
    "file_list = glob.glob(folder_path + \"/*.json.gz\")\n",
    "annotated_list = []\n",
    "for file_path in file_list:\n",
    "    with gzip.open(file_path, 'rb') as f:\n",
    "        # Read the content of the gzip file\n",
    "        json_content = f.read()\n",
    "\n",
    "        # Decode the gzip content\n",
    "        json_str = json_content.decode('utf-8')\n",
    "\n",
    "        # Parse the JSON content\n",
    "        data = json.loads(json_str)\n",
    "        genes = {}\n",
    "        try:\n",
    "            for item in data['genes']:\n",
    "                \n",
    "                for glob_attr, attributes in item.items():\n",
    "                    for attr, value in attributes.items():\n",
    "                        if attr !='raw' :\n",
    "                            if(f'{value}'=='nan'):\n",
    "                                genes[f\"{glob_attr}_{attr}\"] = \"nan\"\n",
    "                            else:\n",
    "                                genes[f\"{glob_attr}_{attr}\"] = value\n",
    "            annotated_list.append({\"chrom\":data['chrom'],'start':data['start'],'end':data['end'],'cnv_type':data['cnv_type'],**genes} )\n",
    "        except:\n",
    "            pass\n",
    "annotated_df = pd.json_normalize(annotated_list)\n",
    "annotated_df['chrom'] =  annotated_df['chrom'].replace({'X': 23, 'Y': 24})\n",
    "annotated_df['cnv_type'] = annotated_df['cnv_type'].replace({'gain': 1, 'loss': 0})\n"
   ]
  },
  {
   "cell_type": "markdown",
   "metadata": {},
   "source": [
    "Reading table with clinSign"
   ]
  },
  {
   "cell_type": "code",
   "execution_count": 187,
   "metadata": {},
   "outputs": [
    {
     "name": "stderr",
     "output_type": "stream",
     "text": [
      "C:\\Users\\misha\\AppData\\Local\\Temp\\ipykernel_8068\\519074208.py:4: FutureWarning: Downcasting behavior in `replace` is deprecated and will be removed in a future version. To retain the old behavior, explicitly call `result.infer_objects(copy=False)`. To opt-in to the future behavior, set `pd.set_option('future.no_silent_downcasting', True)`\n",
      "  clinSign_df['clinSign'] = clinSign_df['clinSign'].replace({'Pathogenic': 1, 'Benign': 0})\n"
     ]
    }
   ],
   "source": [
    "clinSign_df = pd.read_csv('clear_cnvcka.csv')\n",
    "\n",
    "# Replacing Pathogenic -> 1 and Benign -> 0\n",
    "clinSign_df['clinSign'] = clinSign_df['clinSign'].replace({'Pathogenic': 1, 'Benign': 0})"
   ]
  },
  {
   "cell_type": "markdown",
   "metadata": {},
   "source": [
    "Converting tables to same type"
   ]
  },
  {
   "cell_type": "code",
   "execution_count": 188,
   "metadata": {},
   "outputs": [],
   "source": [
    "def convert_to_int64(column):\n",
    "    column = pd.to_numeric(column, errors='coerce')  # Convert to numeric, set invalid parsing as NaN\n",
    "    column = column.fillna(-1).astype('int64')  # Handle NaN values appropriately, for example, replace with -1\n",
    "    return column\n",
    "\n",
    "# Select object columns and convert them to int64\n",
    "for col in annotated_df.select_dtypes(include=['object']).columns:\n",
    "    annotated_df[col] = convert_to_int64(annotated_df[col])\n",
    "    \n",
    "for col in clinSign_df.select_dtypes(include=['object']).columns:\n",
    "    clinSign_df[col] = convert_to_int64(clinSign_df[col])"
   ]
  },
  {
   "cell_type": "code",
   "execution_count": 189,
   "metadata": {},
   "outputs": [],
   "source": [
    "annotated_df = annotated_df.fillna(annotated_df.mean())\n",
    "clinSign_df = clinSign_df.fillna(annotated_df.mean())"
   ]
  },
  {
   "cell_type": "markdown",
   "metadata": {},
   "source": [
    "Table merging"
   ]
  },
  {
   "cell_type": "code",
   "execution_count": 190,
   "metadata": {},
   "outputs": [],
   "source": [
    "# Perform a inner join based on \"chrom\", \"start\", \"end\"\n",
    "merged_df = pd.merge(annotated_df, clinSign_df, on=[\"chrom\", \"start\", \"end\"], how=\"inner\")"
   ]
  },
  {
   "cell_type": "code",
   "execution_count": 191,
   "metadata": {},
   "outputs": [
    {
     "data": {
      "text/html": [
       "<div>\n",
       "<style scoped>\n",
       "    .dataframe tbody tr th:only-of-type {\n",
       "        vertical-align: middle;\n",
       "    }\n",
       "\n",
       "    .dataframe tbody tr th {\n",
       "        vertical-align: top;\n",
       "    }\n",
       "\n",
       "    .dataframe thead th {\n",
       "        text-align: right;\n",
       "    }\n",
       "</style>\n",
       "<table border=\"1\" class=\"dataframe\">\n",
       "  <thead>\n",
       "    <tr style=\"text-align: right;\">\n",
       "      <th></th>\n",
       "      <th>chrom</th>\n",
       "      <th>start</th>\n",
       "      <th>end</th>\n",
       "      <th>cnv_type</th>\n",
       "      <th>Pathway(ConsensusPathDB)_imputed_unscaled</th>\n",
       "      <th>Pathway(ConsensusPathDB)_imputed_scaled</th>\n",
       "      <th>Pathway(ConsensusPathDB)_unimputed_unscaled</th>\n",
       "      <th>Function_description_imputed_unscaled</th>\n",
       "      <th>Function_description_imputed_scaled</th>\n",
       "      <th>Function_description_unimputed_unscaled</th>\n",
       "      <th>...</th>\n",
       "      <th>Essential_gene_gene-trap_N_imputed_unscaled</th>\n",
       "      <th>Essential_gene_gene-trap_N_imputed_scaled</th>\n",
       "      <th>Essential_gene_gene-trap_N_unimputed_unscaled</th>\n",
       "      <th>Gene_indispensability_pred_E_imputed_unscaled</th>\n",
       "      <th>Gene_indispensability_pred_E_imputed_scaled</th>\n",
       "      <th>Gene_indispensability_pred_E_unimputed_unscaled</th>\n",
       "      <th>Gene_indispensability_pred_N_imputed_unscaled</th>\n",
       "      <th>Gene_indispensability_pred_N_imputed_scaled</th>\n",
       "      <th>Gene_indispensability_pred_N_unimputed_unscaled</th>\n",
       "      <th>clinSign</th>\n",
       "    </tr>\n",
       "  </thead>\n",
       "  <tbody>\n",
       "    <tr>\n",
       "      <th>0</th>\n",
       "      <td>10</td>\n",
       "      <td>100194214</td>\n",
       "      <td>132432797</td>\n",
       "      <td>1</td>\n",
       "      <td>0.0</td>\n",
       "      <td>0.0</td>\n",
       "      <td>0.0</td>\n",
       "      <td>0.0</td>\n",
       "      <td>0.0</td>\n",
       "      <td>0.0</td>\n",
       "      <td>...</td>\n",
       "      <td>1.0</td>\n",
       "      <td>1.0</td>\n",
       "      <td>1.0</td>\n",
       "      <td>0.0</td>\n",
       "      <td>0.0</td>\n",
       "      <td>0.0</td>\n",
       "      <td>1.0</td>\n",
       "      <td>1.0</td>\n",
       "      <td>1.0</td>\n",
       "      <td>1</td>\n",
       "    </tr>\n",
       "    <tr>\n",
       "      <th>1</th>\n",
       "      <td>10</td>\n",
       "      <td>100600491</td>\n",
       "      <td>133622588</td>\n",
       "      <td>1</td>\n",
       "      <td>0.0</td>\n",
       "      <td>0.0</td>\n",
       "      <td>0.0</td>\n",
       "      <td>1.0</td>\n",
       "      <td>1.0</td>\n",
       "      <td>1.0</td>\n",
       "      <td>...</td>\n",
       "      <td>1.0</td>\n",
       "      <td>1.0</td>\n",
       "      <td>1.0</td>\n",
       "      <td>0.0</td>\n",
       "      <td>0.0</td>\n",
       "      <td>0.0</td>\n",
       "      <td>1.0</td>\n",
       "      <td>1.0</td>\n",
       "      <td>1.0</td>\n",
       "      <td>1</td>\n",
       "    </tr>\n",
       "    <tr>\n",
       "      <th>2</th>\n",
       "      <td>10</td>\n",
       "      <td>100677716</td>\n",
       "      <td>100764519</td>\n",
       "      <td>0</td>\n",
       "      <td>1.0</td>\n",
       "      <td>1.0</td>\n",
       "      <td>1.0</td>\n",
       "      <td>1.0</td>\n",
       "      <td>1.0</td>\n",
       "      <td>1.0</td>\n",
       "      <td>...</td>\n",
       "      <td>1.0</td>\n",
       "      <td>1.0</td>\n",
       "      <td>1.0</td>\n",
       "      <td>1.0</td>\n",
       "      <td>1.0</td>\n",
       "      <td>1.0</td>\n",
       "      <td>0.0</td>\n",
       "      <td>0.0</td>\n",
       "      <td>0.0</td>\n",
       "      <td>1</td>\n",
       "    </tr>\n",
       "    <tr>\n",
       "      <th>3</th>\n",
       "      <td>10</td>\n",
       "      <td>101120346</td>\n",
       "      <td>101831908</td>\n",
       "      <td>1</td>\n",
       "      <td>1.0</td>\n",
       "      <td>1.0</td>\n",
       "      <td>1.0</td>\n",
       "      <td>1.0</td>\n",
       "      <td>1.0</td>\n",
       "      <td>1.0</td>\n",
       "      <td>...</td>\n",
       "      <td>1.0</td>\n",
       "      <td>1.0</td>\n",
       "      <td>1.0</td>\n",
       "      <td>0.0</td>\n",
       "      <td>0.0</td>\n",
       "      <td>0.0</td>\n",
       "      <td>1.0</td>\n",
       "      <td>1.0</td>\n",
       "      <td>1.0</td>\n",
       "      <td>1</td>\n",
       "    </tr>\n",
       "    <tr>\n",
       "      <th>4</th>\n",
       "      <td>10</td>\n",
       "      <td>101177304</td>\n",
       "      <td>101719109</td>\n",
       "      <td>1</td>\n",
       "      <td>1.0</td>\n",
       "      <td>1.0</td>\n",
       "      <td>1.0</td>\n",
       "      <td>1.0</td>\n",
       "      <td>1.0</td>\n",
       "      <td>1.0</td>\n",
       "      <td>...</td>\n",
       "      <td>1.0</td>\n",
       "      <td>1.0</td>\n",
       "      <td>1.0</td>\n",
       "      <td>1.0</td>\n",
       "      <td>1.0</td>\n",
       "      <td>1.0</td>\n",
       "      <td>0.0</td>\n",
       "      <td>0.0</td>\n",
       "      <td>0.0</td>\n",
       "      <td>1</td>\n",
       "    </tr>\n",
       "  </tbody>\n",
       "</table>\n",
       "<p>5 rows × 284 columns</p>\n",
       "</div>"
      ],
      "text/plain": [
       "   chrom      start        end  cnv_type  \\\n",
       "0     10  100194214  132432797         1   \n",
       "1     10  100600491  133622588         1   \n",
       "2     10  100677716  100764519         0   \n",
       "3     10  101120346  101831908         1   \n",
       "4     10  101177304  101719109         1   \n",
       "\n",
       "   Pathway(ConsensusPathDB)_imputed_unscaled  \\\n",
       "0                                        0.0   \n",
       "1                                        0.0   \n",
       "2                                        1.0   \n",
       "3                                        1.0   \n",
       "4                                        1.0   \n",
       "\n",
       "   Pathway(ConsensusPathDB)_imputed_scaled  \\\n",
       "0                                      0.0   \n",
       "1                                      0.0   \n",
       "2                                      1.0   \n",
       "3                                      1.0   \n",
       "4                                      1.0   \n",
       "\n",
       "   Pathway(ConsensusPathDB)_unimputed_unscaled  \\\n",
       "0                                          0.0   \n",
       "1                                          0.0   \n",
       "2                                          1.0   \n",
       "3                                          1.0   \n",
       "4                                          1.0   \n",
       "\n",
       "   Function_description_imputed_unscaled  Function_description_imputed_scaled  \\\n",
       "0                                    0.0                                  0.0   \n",
       "1                                    1.0                                  1.0   \n",
       "2                                    1.0                                  1.0   \n",
       "3                                    1.0                                  1.0   \n",
       "4                                    1.0                                  1.0   \n",
       "\n",
       "   Function_description_unimputed_unscaled  ...  \\\n",
       "0                                      0.0  ...   \n",
       "1                                      1.0  ...   \n",
       "2                                      1.0  ...   \n",
       "3                                      1.0  ...   \n",
       "4                                      1.0  ...   \n",
       "\n",
       "   Essential_gene_gene-trap_N_imputed_unscaled  \\\n",
       "0                                          1.0   \n",
       "1                                          1.0   \n",
       "2                                          1.0   \n",
       "3                                          1.0   \n",
       "4                                          1.0   \n",
       "\n",
       "   Essential_gene_gene-trap_N_imputed_scaled  \\\n",
       "0                                        1.0   \n",
       "1                                        1.0   \n",
       "2                                        1.0   \n",
       "3                                        1.0   \n",
       "4                                        1.0   \n",
       "\n",
       "   Essential_gene_gene-trap_N_unimputed_unscaled  \\\n",
       "0                                            1.0   \n",
       "1                                            1.0   \n",
       "2                                            1.0   \n",
       "3                                            1.0   \n",
       "4                                            1.0   \n",
       "\n",
       "   Gene_indispensability_pred_E_imputed_unscaled  \\\n",
       "0                                            0.0   \n",
       "1                                            0.0   \n",
       "2                                            1.0   \n",
       "3                                            0.0   \n",
       "4                                            1.0   \n",
       "\n",
       "   Gene_indispensability_pred_E_imputed_scaled  \\\n",
       "0                                          0.0   \n",
       "1                                          0.0   \n",
       "2                                          1.0   \n",
       "3                                          0.0   \n",
       "4                                          1.0   \n",
       "\n",
       "   Gene_indispensability_pred_E_unimputed_unscaled  \\\n",
       "0                                              0.0   \n",
       "1                                              0.0   \n",
       "2                                              1.0   \n",
       "3                                              0.0   \n",
       "4                                              1.0   \n",
       "\n",
       "   Gene_indispensability_pred_N_imputed_unscaled  \\\n",
       "0                                            1.0   \n",
       "1                                            1.0   \n",
       "2                                            0.0   \n",
       "3                                            1.0   \n",
       "4                                            0.0   \n",
       "\n",
       "   Gene_indispensability_pred_N_imputed_scaled  \\\n",
       "0                                          1.0   \n",
       "1                                          1.0   \n",
       "2                                          0.0   \n",
       "3                                          1.0   \n",
       "4                                          0.0   \n",
       "\n",
       "   Gene_indispensability_pred_N_unimputed_unscaled  clinSign  \n",
       "0                                              1.0         1  \n",
       "1                                              1.0         1  \n",
       "2                                              0.0         1  \n",
       "3                                              1.0         1  \n",
       "4                                              0.0         1  \n",
       "\n",
       "[5 rows x 284 columns]"
      ]
     },
     "execution_count": 191,
     "metadata": {},
     "output_type": "execute_result"
    }
   ],
   "source": [
    "merged_df.head()"
   ]
  },
  {
   "cell_type": "markdown",
   "metadata": {},
   "source": [
    "Finding the attributes that have the greatest impact on **clinSign**"
   ]
  },
  {
   "cell_type": "code",
   "execution_count": 192,
   "metadata": {},
   "outputs": [
    {
     "name": "stdout",
     "output_type": "stream",
     "text": [
      "Index(['P(HI)_unimputed_unscaled', 'GHIS_unimputed_unscaled',\n",
      "       'LoF-FDR_ExAC_unimputed_unscaled',\n",
      "       'ExAC_nonTCGA_pLI_unimputed_unscaled',\n",
      "       'ExAC_nonTCGA_pRec_unimputed_unscaled',\n",
      "       'ExAC_nonTCGA_pNull_unimputed_unscaled',\n",
      "       'gnomAD_pLI_unimputed_unscaled', 'gnomAD_pRec_unimputed_unscaled',\n",
      "       'gnomAD_pNull_unimputed_unscaled',\n",
      "       'Gene_indispensability_score_unimputed_unscaled'],\n",
      "      dtype='object')\n"
     ]
    }
   ],
   "source": [
    "x = merged_df.drop('clinSign', axis=1)\n",
    "y = merged_df['clinSign']\n",
    "input_len = 10\n",
    "# Select top 10 features\n",
    "selector = SelectKBest(f_classif, k=input_len)\n",
    "X_new = selector.fit_transform(x, y)\n",
    "\n",
    "# Get the selected feature names\n",
    "selected_features = x.columns[selector.get_support()]\n",
    "print(selected_features)"
   ]
  },
  {
   "cell_type": "code",
   "execution_count": 193,
   "metadata": {},
   "outputs": [],
   "source": [
    "#Final dataframe with needed columns\n",
    "final_df = merged_df.loc[:, [*selected_features,\"clinSign\"]]"
   ]
  },
  {
   "cell_type": "code",
   "execution_count": 194,
   "metadata": {},
   "outputs": [
    {
     "data": {
      "text/html": [
       "<div>\n",
       "<style scoped>\n",
       "    .dataframe tbody tr th:only-of-type {\n",
       "        vertical-align: middle;\n",
       "    }\n",
       "\n",
       "    .dataframe tbody tr th {\n",
       "        vertical-align: top;\n",
       "    }\n",
       "\n",
       "    .dataframe thead th {\n",
       "        text-align: right;\n",
       "    }\n",
       "</style>\n",
       "<table border=\"1\" class=\"dataframe\">\n",
       "  <thead>\n",
       "    <tr style=\"text-align: right;\">\n",
       "      <th></th>\n",
       "      <th>P(HI)_unimputed_unscaled</th>\n",
       "      <th>GHIS_unimputed_unscaled</th>\n",
       "      <th>LoF-FDR_ExAC_unimputed_unscaled</th>\n",
       "      <th>ExAC_nonTCGA_pLI_unimputed_unscaled</th>\n",
       "      <th>ExAC_nonTCGA_pRec_unimputed_unscaled</th>\n",
       "      <th>ExAC_nonTCGA_pNull_unimputed_unscaled</th>\n",
       "      <th>gnomAD_pLI_unimputed_unscaled</th>\n",
       "      <th>gnomAD_pRec_unimputed_unscaled</th>\n",
       "      <th>gnomAD_pNull_unimputed_unscaled</th>\n",
       "      <th>Gene_indispensability_score_unimputed_unscaled</th>\n",
       "      <th>clinSign</th>\n",
       "    </tr>\n",
       "  </thead>\n",
       "  <tbody>\n",
       "    <tr>\n",
       "      <th>0</th>\n",
       "      <td>0</td>\n",
       "      <td>0</td>\n",
       "      <td>0</td>\n",
       "      <td>0</td>\n",
       "      <td>0</td>\n",
       "      <td>0</td>\n",
       "      <td>0</td>\n",
       "      <td>0</td>\n",
       "      <td>0</td>\n",
       "      <td>0</td>\n",
       "      <td>1</td>\n",
       "    </tr>\n",
       "    <tr>\n",
       "      <th>1</th>\n",
       "      <td>-1</td>\n",
       "      <td>0</td>\n",
       "      <td>0</td>\n",
       "      <td>0</td>\n",
       "      <td>0</td>\n",
       "      <td>0</td>\n",
       "      <td>0</td>\n",
       "      <td>0</td>\n",
       "      <td>0</td>\n",
       "      <td>0</td>\n",
       "      <td>1</td>\n",
       "    </tr>\n",
       "    <tr>\n",
       "      <th>2</th>\n",
       "      <td>0</td>\n",
       "      <td>0</td>\n",
       "      <td>0</td>\n",
       "      <td>0</td>\n",
       "      <td>0</td>\n",
       "      <td>0</td>\n",
       "      <td>0</td>\n",
       "      <td>0</td>\n",
       "      <td>0</td>\n",
       "      <td>0</td>\n",
       "      <td>1</td>\n",
       "    </tr>\n",
       "    <tr>\n",
       "      <th>3</th>\n",
       "      <td>0</td>\n",
       "      <td>0</td>\n",
       "      <td>0</td>\n",
       "      <td>0</td>\n",
       "      <td>0</td>\n",
       "      <td>0</td>\n",
       "      <td>0</td>\n",
       "      <td>0</td>\n",
       "      <td>0</td>\n",
       "      <td>0</td>\n",
       "      <td>1</td>\n",
       "    </tr>\n",
       "    <tr>\n",
       "      <th>4</th>\n",
       "      <td>0</td>\n",
       "      <td>0</td>\n",
       "      <td>0</td>\n",
       "      <td>0</td>\n",
       "      <td>0</td>\n",
       "      <td>0</td>\n",
       "      <td>0</td>\n",
       "      <td>0</td>\n",
       "      <td>0</td>\n",
       "      <td>0</td>\n",
       "      <td>1</td>\n",
       "    </tr>\n",
       "  </tbody>\n",
       "</table>\n",
       "</div>"
      ],
      "text/plain": [
       "   P(HI)_unimputed_unscaled  GHIS_unimputed_unscaled  \\\n",
       "0                         0                        0   \n",
       "1                        -1                        0   \n",
       "2                         0                        0   \n",
       "3                         0                        0   \n",
       "4                         0                        0   \n",
       "\n",
       "   LoF-FDR_ExAC_unimputed_unscaled  ExAC_nonTCGA_pLI_unimputed_unscaled  \\\n",
       "0                                0                                    0   \n",
       "1                                0                                    0   \n",
       "2                                0                                    0   \n",
       "3                                0                                    0   \n",
       "4                                0                                    0   \n",
       "\n",
       "   ExAC_nonTCGA_pRec_unimputed_unscaled  \\\n",
       "0                                     0   \n",
       "1                                     0   \n",
       "2                                     0   \n",
       "3                                     0   \n",
       "4                                     0   \n",
       "\n",
       "   ExAC_nonTCGA_pNull_unimputed_unscaled  gnomAD_pLI_unimputed_unscaled  \\\n",
       "0                                      0                              0   \n",
       "1                                      0                              0   \n",
       "2                                      0                              0   \n",
       "3                                      0                              0   \n",
       "4                                      0                              0   \n",
       "\n",
       "   gnomAD_pRec_unimputed_unscaled  gnomAD_pNull_unimputed_unscaled  \\\n",
       "0                               0                                0   \n",
       "1                               0                                0   \n",
       "2                               0                                0   \n",
       "3                               0                                0   \n",
       "4                               0                                0   \n",
       "\n",
       "   Gene_indispensability_score_unimputed_unscaled  clinSign  \n",
       "0                                               0         1  \n",
       "1                                               0         1  \n",
       "2                                               0         1  \n",
       "3                                               0         1  \n",
       "4                                               0         1  "
      ]
     },
     "execution_count": 194,
     "metadata": {},
     "output_type": "execute_result"
    }
   ],
   "source": [
    "final_df.head()"
   ]
  },
  {
   "cell_type": "markdown",
   "metadata": {},
   "source": [
    "Converting columns to array for input data"
   ]
  },
  {
   "cell_type": "code",
   "execution_count": 195,
   "metadata": {},
   "outputs": [
    {
     "data": {
      "text/html": [
       "<div>\n",
       "<style scoped>\n",
       "    .dataframe tbody tr th:only-of-type {\n",
       "        vertical-align: middle;\n",
       "    }\n",
       "\n",
       "    .dataframe tbody tr th {\n",
       "        vertical-align: top;\n",
       "    }\n",
       "\n",
       "    .dataframe thead th {\n",
       "        text-align: right;\n",
       "    }\n",
       "</style>\n",
       "<table border=\"1\" class=\"dataframe\">\n",
       "  <thead>\n",
       "    <tr style=\"text-align: right;\">\n",
       "      <th></th>\n",
       "      <th>input</th>\n",
       "      <th>output</th>\n",
       "    </tr>\n",
       "  </thead>\n",
       "  <tbody>\n",
       "    <tr>\n",
       "      <th>0</th>\n",
       "      <td>[0, 0, 0, 0, 0, 0, 0, 0, 0, 0]</td>\n",
       "      <td>1</td>\n",
       "    </tr>\n",
       "    <tr>\n",
       "      <th>1</th>\n",
       "      <td>[-1, 0, 0, 0, 0, 0, 0, 0, 0, 0]</td>\n",
       "      <td>1</td>\n",
       "    </tr>\n",
       "    <tr>\n",
       "      <th>2</th>\n",
       "      <td>[0, 0, 0, 0, 0, 0, 0, 0, 0, 0]</td>\n",
       "      <td>1</td>\n",
       "    </tr>\n",
       "    <tr>\n",
       "      <th>3</th>\n",
       "      <td>[0, 0, 0, 0, 0, 0, 0, 0, 0, 0]</td>\n",
       "      <td>1</td>\n",
       "    </tr>\n",
       "    <tr>\n",
       "      <th>4</th>\n",
       "      <td>[0, 0, 0, 0, 0, 0, 0, 0, 0, 0]</td>\n",
       "      <td>1</td>\n",
       "    </tr>\n",
       "  </tbody>\n",
       "</table>\n",
       "</div>"
      ],
      "text/plain": [
       "                             input  output\n",
       "0   [0, 0, 0, 0, 0, 0, 0, 0, 0, 0]       1\n",
       "1  [-1, 0, 0, 0, 0, 0, 0, 0, 0, 0]       1\n",
       "2   [0, 0, 0, 0, 0, 0, 0, 0, 0, 0]       1\n",
       "3   [0, 0, 0, 0, 0, 0, 0, 0, 0, 0]       1\n",
       "4   [0, 0, 0, 0, 0, 0, 0, 0, 0, 0]       1"
      ]
     },
     "execution_count": 195,
     "metadata": {},
     "output_type": "execute_result"
    }
   ],
   "source": [
    "def x_helper(row):\n",
    "    return [row[i] for i in selected_features]\n",
    "\n",
    "X_temp = final_df.apply(x_helper,axis=1)\n",
    "Y_temp = final_df['clinSign']\n",
    "res_data = pd.DataFrame(list(zip(X_temp,Y_temp)),columns=(\"input\",\"output\"))\n",
    "x = np.array(res_data['input'].tolist())\n",
    "y = np.array(res_data['output'].tolist())\n",
    "\n",
    "res_data.head()"
   ]
  },
  {
   "cell_type": "markdown",
   "metadata": {},
   "source": [
    "### Create **balanced data** so that the number of pathogenic and benign genes is equal"
   ]
  },
  {
   "cell_type": "code",
   "execution_count": 196,
   "metadata": {},
   "outputs": [],
   "source": [
    "pathogenic = np.where(y == 1 )[0]\n",
    "benign = np.where(y == 0 )[0]\n",
    "pathogenic_len = len(pathogenic)\n",
    "benign_len = len(benign)"
   ]
  },
  {
   "cell_type": "code",
   "execution_count": 197,
   "metadata": {},
   "outputs": [
    {
     "name": "stdout",
     "output_type": "stream",
     "text": [
      "Pathogenic: 4643\n",
      "Benign: 2972\n",
      "Difference: 1671\n",
      "Percentage of Pathogenic: 0.6097176625082075\n",
      "Percentage of Benign: 0.39028233749179253\n"
     ]
    }
   ],
   "source": [
    "print(f\"Pathogenic: {pathogenic_len}\")\n",
    "print(f\"Benign: {benign_len}\")\n",
    "print(f\"Difference: {abs( pathogenic_len - benign_len)}\")\n",
    "print(f\"Percentage of Pathogenic: {pathogenic_len/(pathogenic_len + benign_len)}\")\n",
    "print(f\"Percentage of Benign: {benign_len/(pathogenic_len + benign_len)}\")"
   ]
  },
  {
   "cell_type": "code",
   "execution_count": 198,
   "metadata": {},
   "outputs": [],
   "source": [
    "n_samples = min(len(pathogenic), len(benign))\n",
    "\n",
    "# Randomly select n_samples from ones and zeros\n",
    "np.random.seed(42) \n",
    "selected_benign = np.random.choice(benign, n_samples, replace=False)\n",
    "selected_pathogenic = np.random.choice(pathogenic, n_samples, replace=False)\n",
    "\n",
    "# Combine and shuffle the indices\n",
    "balanced_indices = np.concatenate([selected_benign, selected_pathogenic])\n",
    "np.random.shuffle(balanced_indices)\n",
    "\n",
    "# Create balanced arrays\n",
    "x_balanced = x[balanced_indices]\n",
    "y_balanced = y[balanced_indices]\n"
   ]
  },
  {
   "cell_type": "code",
   "execution_count": 199,
   "metadata": {},
   "outputs": [
    {
     "name": "stdout",
     "output_type": "stream",
     "text": [
      "One's: 2972 \n",
      "Zero's: 2972\n"
     ]
    }
   ],
   "source": [
    "ones = (y_balanced == 1).sum()\n",
    "zeros = (y_balanced == 0).sum()\n",
    "print(\"One's:\", ones, \"\\nZero's:\", zeros)"
   ]
  },
  {
   "cell_type": "markdown",
   "metadata": {},
   "source": [
    "Normalise the input data and separate the data for **training** and **testing**"
   ]
  },
  {
   "cell_type": "code",
   "execution_count": 200,
   "metadata": {},
   "outputs": [],
   "source": [
    "# Scaling the features\n",
    "mms = MinMaxScaler()\n",
    "\n",
    "x_balanced_normalized = mms.fit_transform(x_balanced)\n",
    "x_train, x_test, y_train, y_test = train_test_split(x_balanced_normalized, y_balanced, test_size=0.25)"
   ]
  },
  {
   "cell_type": "markdown",
   "metadata": {},
   "source": [
    "Create new output data arrays for model training and testing:\n",
    "\n",
    "0 -> [1,0]\n",
    "\n",
    "1 -> [0,1]"
   ]
  },
  {
   "cell_type": "code",
   "execution_count": 201,
   "metadata": {},
   "outputs": [],
   "source": [
    "def y_helper(x):\n",
    "    return [1 if x==i else 0 for i in range(2)]\n",
    "\n",
    "y_train_array = np.array(list(map(y_helper,y_train)))\n",
    "y_test_array = np.array(list(map(y_helper,y_test)))\n"
   ]
  },
  {
   "cell_type": "markdown",
   "metadata": {},
   "source": [
    "### Creating the model"
   ]
  },
  {
   "cell_type": "code",
   "execution_count": 205,
   "metadata": {},
   "outputs": [],
   "source": [
    "# Compile the model\n",
    "model = Sequential([\n",
    "    Dense(256, input_dim=input_len, activation='relu'),\n",
    "    Dense(64, activation='sigmoid'),\n",
    "    Dense(16, activation='relu'),\n",
    "    Dense(2, activation='sigmoid')\n",
    "])\n",
    "model.compile(loss= keras.losses.MeanSquaredError(), optimizer=\"adam\", metrics=[\"accuracy\"])"
   ]
  },
  {
   "cell_type": "code",
   "execution_count": 206,
   "metadata": {},
   "outputs": [
    {
     "name": "stdout",
     "output_type": "stream",
     "text": [
      "Epoch 1/100\n",
      "140/140 [==============================] - 1s 2ms/step - loss: 0.2153 - accuracy: 0.6622 - val_loss: 0.2038 - val_accuracy: 0.6952\n",
      "Epoch 2/100\n",
      "140/140 [==============================] - 0s 2ms/step - loss: 0.1935 - accuracy: 0.7079 - val_loss: 0.1975 - val_accuracy: 0.7194\n",
      "Epoch 3/100\n",
      "140/140 [==============================] - 0s 2ms/step - loss: 0.1899 - accuracy: 0.7245 - val_loss: 0.1955 - val_accuracy: 0.7227\n",
      "Epoch 4/100\n",
      "140/140 [==============================] - 0s 2ms/step - loss: 0.1883 - accuracy: 0.7319 - val_loss: 0.1955 - val_accuracy: 0.7160\n",
      "Epoch 5/100\n",
      "140/140 [==============================] - 0s 2ms/step - loss: 0.1874 - accuracy: 0.7317 - val_loss: 0.1921 - val_accuracy: 0.7201\n",
      "Epoch 6/100\n",
      "140/140 [==============================] - 0s 2ms/step - loss: 0.1871 - accuracy: 0.7279 - val_loss: 0.1941 - val_accuracy: 0.7214\n",
      "Epoch 7/100\n",
      "140/140 [==============================] - 0s 2ms/step - loss: 0.1850 - accuracy: 0.7376 - val_loss: 0.1910 - val_accuracy: 0.7268\n",
      "Epoch 8/100\n",
      "140/140 [==============================] - 0s 2ms/step - loss: 0.1853 - accuracy: 0.7396 - val_loss: 0.1903 - val_accuracy: 0.7281\n",
      "Epoch 9/100\n",
      "140/140 [==============================] - 0s 2ms/step - loss: 0.1844 - accuracy: 0.7358 - val_loss: 0.1903 - val_accuracy: 0.7261\n",
      "Epoch 10/100\n",
      "140/140 [==============================] - 0s 2ms/step - loss: 0.1842 - accuracy: 0.7376 - val_loss: 0.1936 - val_accuracy: 0.7234\n",
      "Epoch 11/100\n",
      "140/140 [==============================] - 0s 2ms/step - loss: 0.1845 - accuracy: 0.7373 - val_loss: 0.1923 - val_accuracy: 0.7241\n",
      "Epoch 12/100\n",
      "140/140 [==============================] - 0s 2ms/step - loss: 0.1849 - accuracy: 0.7393 - val_loss: 0.1894 - val_accuracy: 0.7261\n",
      "Epoch 13/100\n",
      "140/140 [==============================] - 0s 2ms/step - loss: 0.1840 - accuracy: 0.7405 - val_loss: 0.1896 - val_accuracy: 0.7275\n",
      "Epoch 14/100\n",
      "140/140 [==============================] - 0s 2ms/step - loss: 0.1837 - accuracy: 0.7393 - val_loss: 0.1894 - val_accuracy: 0.7261\n",
      "Epoch 15/100\n",
      "140/140 [==============================] - 0s 2ms/step - loss: 0.1833 - accuracy: 0.7373 - val_loss: 0.1900 - val_accuracy: 0.7315\n",
      "Epoch 16/100\n",
      "140/140 [==============================] - 0s 2ms/step - loss: 0.1829 - accuracy: 0.7398 - val_loss: 0.1905 - val_accuracy: 0.7288\n",
      "Epoch 17/100\n",
      "140/140 [==============================] - 0s 2ms/step - loss: 0.1831 - accuracy: 0.7400 - val_loss: 0.1886 - val_accuracy: 0.7301\n",
      "Epoch 18/100\n",
      "140/140 [==============================] - 0s 2ms/step - loss: 0.1826 - accuracy: 0.7411 - val_loss: 0.1884 - val_accuracy: 0.7308\n",
      "Epoch 19/100\n",
      "140/140 [==============================] - 0s 2ms/step - loss: 0.1832 - accuracy: 0.7396 - val_loss: 0.1885 - val_accuracy: 0.7281\n",
      "Epoch 20/100\n",
      "140/140 [==============================] - 0s 2ms/step - loss: 0.1825 - accuracy: 0.7387 - val_loss: 0.1906 - val_accuracy: 0.7315\n",
      "Epoch 21/100\n",
      "140/140 [==============================] - 0s 2ms/step - loss: 0.1838 - accuracy: 0.7389 - val_loss: 0.1896 - val_accuracy: 0.7322\n",
      "Epoch 22/100\n",
      "140/140 [==============================] - 0s 2ms/step - loss: 0.1826 - accuracy: 0.7402 - val_loss: 0.1888 - val_accuracy: 0.7301\n",
      "Epoch 23/100\n",
      "140/140 [==============================] - 0s 2ms/step - loss: 0.1830 - accuracy: 0.7414 - val_loss: 0.1889 - val_accuracy: 0.7268\n",
      "Epoch 24/100\n",
      "140/140 [==============================] - 0s 2ms/step - loss: 0.1830 - accuracy: 0.7389 - val_loss: 0.1882 - val_accuracy: 0.7275\n",
      "Epoch 25/100\n",
      "140/140 [==============================] - 0s 2ms/step - loss: 0.1829 - accuracy: 0.7389 - val_loss: 0.1948 - val_accuracy: 0.7086\n",
      "Epoch 26/100\n",
      "140/140 [==============================] - 0s 2ms/step - loss: 0.1826 - accuracy: 0.7411 - val_loss: 0.1886 - val_accuracy: 0.7288\n",
      "Epoch 27/100\n",
      "140/140 [==============================] - 0s 2ms/step - loss: 0.1828 - accuracy: 0.7400 - val_loss: 0.1884 - val_accuracy: 0.7295\n",
      "Epoch 28/100\n",
      "140/140 [==============================] - 0s 2ms/step - loss: 0.1829 - accuracy: 0.7371 - val_loss: 0.1878 - val_accuracy: 0.7288\n",
      "Epoch 29/100\n",
      "140/140 [==============================] - 0s 2ms/step - loss: 0.1823 - accuracy: 0.7434 - val_loss: 0.1886 - val_accuracy: 0.7301\n",
      "Epoch 30/100\n",
      "140/140 [==============================] - 0s 2ms/step - loss: 0.1826 - accuracy: 0.7387 - val_loss: 0.1896 - val_accuracy: 0.7308\n",
      "Epoch 31/100\n",
      "140/140 [==============================] - 0s 2ms/step - loss: 0.1823 - accuracy: 0.7405 - val_loss: 0.1882 - val_accuracy: 0.7275\n",
      "Epoch 32/100\n",
      "140/140 [==============================] - 0s 2ms/step - loss: 0.1824 - accuracy: 0.7402 - val_loss: 0.1890 - val_accuracy: 0.7301\n",
      "Epoch 33/100\n",
      "140/140 [==============================] - 0s 2ms/step - loss: 0.1827 - accuracy: 0.7407 - val_loss: 0.1889 - val_accuracy: 0.7308\n",
      "Epoch 34/100\n",
      "140/140 [==============================] - 0s 2ms/step - loss: 0.1823 - accuracy: 0.7409 - val_loss: 0.1886 - val_accuracy: 0.7301\n",
      "Epoch 35/100\n",
      "140/140 [==============================] - 0s 2ms/step - loss: 0.1823 - accuracy: 0.7432 - val_loss: 0.1908 - val_accuracy: 0.7160\n",
      "Epoch 36/100\n",
      "140/140 [==============================] - 0s 2ms/step - loss: 0.1822 - accuracy: 0.7364 - val_loss: 0.1880 - val_accuracy: 0.7342\n",
      "Epoch 37/100\n",
      "140/140 [==============================] - 0s 2ms/step - loss: 0.1819 - accuracy: 0.7405 - val_loss: 0.1871 - val_accuracy: 0.7288\n",
      "Epoch 38/100\n",
      "140/140 [==============================] - 0s 2ms/step - loss: 0.1822 - accuracy: 0.7389 - val_loss: 0.1878 - val_accuracy: 0.7328\n",
      "Epoch 39/100\n",
      "140/140 [==============================] - 0s 2ms/step - loss: 0.1824 - accuracy: 0.7402 - val_loss: 0.1872 - val_accuracy: 0.7315\n",
      "Epoch 40/100\n",
      "140/140 [==============================] - 0s 2ms/step - loss: 0.1819 - accuracy: 0.7393 - val_loss: 0.1879 - val_accuracy: 0.7308\n",
      "Epoch 41/100\n",
      "140/140 [==============================] - 0s 2ms/step - loss: 0.1819 - accuracy: 0.7432 - val_loss: 0.1889 - val_accuracy: 0.7308\n",
      "Epoch 42/100\n",
      "140/140 [==============================] - 0s 2ms/step - loss: 0.1817 - accuracy: 0.7416 - val_loss: 0.1888 - val_accuracy: 0.7268\n",
      "Epoch 43/100\n",
      "140/140 [==============================] - 0s 2ms/step - loss: 0.1823 - accuracy: 0.7373 - val_loss: 0.1881 - val_accuracy: 0.7308\n",
      "Epoch 44/100\n",
      "140/140 [==============================] - 0s 2ms/step - loss: 0.1817 - accuracy: 0.7418 - val_loss: 0.1877 - val_accuracy: 0.7288\n",
      "Epoch 45/100\n",
      "140/140 [==============================] - 0s 2ms/step - loss: 0.1824 - accuracy: 0.7382 - val_loss: 0.1896 - val_accuracy: 0.7301\n",
      "Epoch 46/100\n",
      "140/140 [==============================] - 0s 2ms/step - loss: 0.1820 - accuracy: 0.7407 - val_loss: 0.1874 - val_accuracy: 0.7355\n",
      "Epoch 47/100\n",
      "140/140 [==============================] - 0s 2ms/step - loss: 0.1818 - accuracy: 0.7405 - val_loss: 0.1875 - val_accuracy: 0.7301\n",
      "Epoch 48/100\n",
      "140/140 [==============================] - 0s 2ms/step - loss: 0.1819 - accuracy: 0.7398 - val_loss: 0.1869 - val_accuracy: 0.7315\n",
      "Epoch 49/100\n",
      "140/140 [==============================] - 0s 2ms/step - loss: 0.1814 - accuracy: 0.7391 - val_loss: 0.1872 - val_accuracy: 0.7322\n",
      "Epoch 50/100\n",
      "140/140 [==============================] - 0s 2ms/step - loss: 0.1818 - accuracy: 0.7407 - val_loss: 0.1886 - val_accuracy: 0.7308\n",
      "Epoch 51/100\n",
      "140/140 [==============================] - 0s 2ms/step - loss: 0.1819 - accuracy: 0.7398 - val_loss: 0.1877 - val_accuracy: 0.7275\n",
      "Epoch 52/100\n",
      "140/140 [==============================] - 0s 2ms/step - loss: 0.1818 - accuracy: 0.7418 - val_loss: 0.1877 - val_accuracy: 0.7301\n",
      "Epoch 53/100\n",
      "140/140 [==============================] - 0s 2ms/step - loss: 0.1813 - accuracy: 0.7432 - val_loss: 0.1878 - val_accuracy: 0.7308\n",
      "Epoch 54/100\n",
      "140/140 [==============================] - 0s 2ms/step - loss: 0.1819 - accuracy: 0.7434 - val_loss: 0.1867 - val_accuracy: 0.7342\n",
      "Epoch 55/100\n",
      "140/140 [==============================] - 0s 2ms/step - loss: 0.1818 - accuracy: 0.7396 - val_loss: 0.1868 - val_accuracy: 0.7315\n",
      "Epoch 56/100\n",
      "140/140 [==============================] - 0s 2ms/step - loss: 0.1815 - accuracy: 0.7409 - val_loss: 0.1912 - val_accuracy: 0.7160\n",
      "Epoch 57/100\n",
      "140/140 [==============================] - 0s 2ms/step - loss: 0.1821 - accuracy: 0.7420 - val_loss: 0.1871 - val_accuracy: 0.7322\n",
      "Epoch 58/100\n",
      "140/140 [==============================] - 0s 2ms/step - loss: 0.1812 - accuracy: 0.7402 - val_loss: 0.1884 - val_accuracy: 0.7308\n",
      "Epoch 59/100\n",
      "140/140 [==============================] - 0s 2ms/step - loss: 0.1817 - accuracy: 0.7416 - val_loss: 0.1875 - val_accuracy: 0.7315\n",
      "Epoch 60/100\n",
      "140/140 [==============================] - 0s 2ms/step - loss: 0.1813 - accuracy: 0.7409 - val_loss: 0.1882 - val_accuracy: 0.7301\n",
      "Epoch 61/100\n",
      "140/140 [==============================] - 0s 2ms/step - loss: 0.1819 - accuracy: 0.7425 - val_loss: 0.1868 - val_accuracy: 0.7295\n",
      "Epoch 62/100\n",
      "140/140 [==============================] - 0s 2ms/step - loss: 0.1813 - accuracy: 0.7409 - val_loss: 0.1885 - val_accuracy: 0.7301\n",
      "Epoch 63/100\n",
      "140/140 [==============================] - 0s 2ms/step - loss: 0.1813 - accuracy: 0.7416 - val_loss: 0.1872 - val_accuracy: 0.7315\n",
      "Epoch 64/100\n",
      "140/140 [==============================] - 0s 2ms/step - loss: 0.1813 - accuracy: 0.7409 - val_loss: 0.1874 - val_accuracy: 0.7362\n",
      "Epoch 65/100\n",
      "140/140 [==============================] - 0s 2ms/step - loss: 0.1815 - accuracy: 0.7398 - val_loss: 0.1866 - val_accuracy: 0.7342\n",
      "Epoch 66/100\n",
      "140/140 [==============================] - 0s 2ms/step - loss: 0.1813 - accuracy: 0.7402 - val_loss: 0.1868 - val_accuracy: 0.7328\n",
      "Epoch 67/100\n",
      "140/140 [==============================] - 0s 2ms/step - loss: 0.1813 - accuracy: 0.7420 - val_loss: 0.1868 - val_accuracy: 0.7322\n",
      "Epoch 68/100\n",
      "140/140 [==============================] - 0s 2ms/step - loss: 0.1812 - accuracy: 0.7414 - val_loss: 0.1868 - val_accuracy: 0.7315\n",
      "Epoch 69/100\n",
      "140/140 [==============================] - 0s 2ms/step - loss: 0.1812 - accuracy: 0.7425 - val_loss: 0.1869 - val_accuracy: 0.7315\n",
      "Epoch 70/100\n",
      "140/140 [==============================] - 0s 2ms/step - loss: 0.1810 - accuracy: 0.7402 - val_loss: 0.1894 - val_accuracy: 0.7315\n",
      "Epoch 71/100\n",
      "140/140 [==============================] - 0s 2ms/step - loss: 0.1818 - accuracy: 0.7411 - val_loss: 0.1874 - val_accuracy: 0.7315\n",
      "Epoch 72/100\n",
      "140/140 [==============================] - 0s 2ms/step - loss: 0.1812 - accuracy: 0.7425 - val_loss: 0.1918 - val_accuracy: 0.7308\n",
      "Epoch 73/100\n",
      "140/140 [==============================] - 0s 2ms/step - loss: 0.1813 - accuracy: 0.7409 - val_loss: 0.1866 - val_accuracy: 0.7322\n",
      "Epoch 74/100\n",
      "140/140 [==============================] - 0s 2ms/step - loss: 0.1812 - accuracy: 0.7416 - val_loss: 0.1863 - val_accuracy: 0.7315\n",
      "Epoch 75/100\n",
      "140/140 [==============================] - 0s 2ms/step - loss: 0.1813 - accuracy: 0.7427 - val_loss: 0.1866 - val_accuracy: 0.7349\n",
      "Epoch 76/100\n",
      "140/140 [==============================] - 0s 2ms/step - loss: 0.1810 - accuracy: 0.7425 - val_loss: 0.1868 - val_accuracy: 0.7362\n",
      "Epoch 77/100\n",
      "140/140 [==============================] - 0s 2ms/step - loss: 0.1812 - accuracy: 0.7454 - val_loss: 0.1867 - val_accuracy: 0.7322\n",
      "Epoch 78/100\n",
      "140/140 [==============================] - 0s 2ms/step - loss: 0.1816 - accuracy: 0.7450 - val_loss: 0.1868 - val_accuracy: 0.7328\n",
      "Epoch 79/100\n",
      "140/140 [==============================] - 0s 2ms/step - loss: 0.1810 - accuracy: 0.7405 - val_loss: 0.1867 - val_accuracy: 0.7315\n",
      "Epoch 80/100\n",
      "140/140 [==============================] - 0s 2ms/step - loss: 0.1812 - accuracy: 0.7429 - val_loss: 0.1869 - val_accuracy: 0.7322\n",
      "Epoch 81/100\n",
      "140/140 [==============================] - 0s 2ms/step - loss: 0.1810 - accuracy: 0.7416 - val_loss: 0.1877 - val_accuracy: 0.7322\n",
      "Epoch 82/100\n",
      "140/140 [==============================] - 0s 2ms/step - loss: 0.1810 - accuracy: 0.7423 - val_loss: 0.1866 - val_accuracy: 0.7281\n",
      "Epoch 83/100\n",
      "140/140 [==============================] - 0s 2ms/step - loss: 0.1812 - accuracy: 0.7420 - val_loss: 0.1872 - val_accuracy: 0.7362\n",
      "Epoch 84/100\n",
      "140/140 [==============================] - 0s 2ms/step - loss: 0.1807 - accuracy: 0.7432 - val_loss: 0.1868 - val_accuracy: 0.7295\n",
      "Epoch 85/100\n",
      "140/140 [==============================] - 0s 2ms/step - loss: 0.1808 - accuracy: 0.7432 - val_loss: 0.1860 - val_accuracy: 0.7308\n",
      "Epoch 86/100\n",
      "140/140 [==============================] - 0s 2ms/step - loss: 0.1810 - accuracy: 0.7436 - val_loss: 0.1862 - val_accuracy: 0.7315\n",
      "Epoch 87/100\n",
      "140/140 [==============================] - 0s 2ms/step - loss: 0.1810 - accuracy: 0.7452 - val_loss: 0.1867 - val_accuracy: 0.7315\n",
      "Epoch 88/100\n",
      "140/140 [==============================] - 0s 2ms/step - loss: 0.1810 - accuracy: 0.7420 - val_loss: 0.1870 - val_accuracy: 0.7295\n",
      "Epoch 89/100\n",
      "140/140 [==============================] - 0s 2ms/step - loss: 0.1804 - accuracy: 0.7441 - val_loss: 0.1872 - val_accuracy: 0.7322\n",
      "Epoch 90/100\n",
      "140/140 [==============================] - 0s 2ms/step - loss: 0.1811 - accuracy: 0.7411 - val_loss: 0.1860 - val_accuracy: 0.7295\n",
      "Epoch 91/100\n",
      "140/140 [==============================] - 0s 2ms/step - loss: 0.1807 - accuracy: 0.7434 - val_loss: 0.1875 - val_accuracy: 0.7328\n",
      "Epoch 92/100\n",
      "140/140 [==============================] - 0s 2ms/step - loss: 0.1810 - accuracy: 0.7438 - val_loss: 0.1863 - val_accuracy: 0.7328\n",
      "Epoch 93/100\n",
      "140/140 [==============================] - 0s 2ms/step - loss: 0.1810 - accuracy: 0.7409 - val_loss: 0.1885 - val_accuracy: 0.7328\n",
      "Epoch 94/100\n",
      "140/140 [==============================] - 0s 2ms/step - loss: 0.1810 - accuracy: 0.7420 - val_loss: 0.1867 - val_accuracy: 0.7328\n",
      "Epoch 95/100\n",
      "140/140 [==============================] - 0s 2ms/step - loss: 0.1811 - accuracy: 0.7407 - val_loss: 0.1864 - val_accuracy: 0.7322\n",
      "Epoch 96/100\n",
      "140/140 [==============================] - 0s 2ms/step - loss: 0.1808 - accuracy: 0.7420 - val_loss: 0.1869 - val_accuracy: 0.7328\n",
      "Epoch 97/100\n",
      "140/140 [==============================] - 0s 2ms/step - loss: 0.1808 - accuracy: 0.7429 - val_loss: 0.1864 - val_accuracy: 0.7315\n",
      "Epoch 98/100\n",
      "140/140 [==============================] - 0s 2ms/step - loss: 0.1809 - accuracy: 0.7418 - val_loss: 0.1870 - val_accuracy: 0.7335\n",
      "Epoch 99/100\n",
      "140/140 [==============================] - 0s 2ms/step - loss: 0.1811 - accuracy: 0.7414 - val_loss: 0.1863 - val_accuracy: 0.7322\n",
      "Epoch 100/100\n",
      "140/140 [==============================] - 0s 2ms/step - loss: 0.1811 - accuracy: 0.7429 - val_loss: 0.1896 - val_accuracy: 0.7315\n"
     ]
    }
   ],
   "source": [
    "history = model.fit(x_train, y_train_array, epochs=100, batch_size=32, validation_data=(x_test, y_test_array))\n"
   ]
  },
  {
   "cell_type": "markdown",
   "metadata": {},
   "source": [
    "### Testing the model"
   ]
  },
  {
   "cell_type": "markdown",
   "metadata": {},
   "source": [
    "Loss graph"
   ]
  },
  {
   "cell_type": "code",
   "execution_count": 207,
   "metadata": {},
   "outputs": [
    {
     "data": {
      "image/png": "[encoded data removed]",
      "text/plain": [
       "<Figure size 640x480 with 1 Axes>"
      ]
     },
     "metadata": {},
     "output_type": "display_data"
    }
   ],
   "source": [
    "plt.plot(history.history['loss'] )\n",
    "plt.plot(history.history['val_loss'] )\n",
    "plt.xlabel('Epochs')\n",
    "plt.ylabel('Loss')\n",
    "plt.legend([\"Train loss\",\"Test loss\"],loc='upper left')\n",
    "plt.show()"
   ]
  },
  {
   "cell_type": "markdown",
   "metadata": {},
   "source": [
    "Accuracy graph"
   ]
  },
  {
   "cell_type": "code",
   "execution_count": 208,
   "metadata": {},
   "outputs": [
    {
     "data": {
      "image/png": "[encoded data removed]",
      "text/plain": [
       "<Figure size 640x480 with 1 Axes>"
      ]
     },
     "metadata": {},
     "output_type": "display_data"
    }
   ],
   "source": [
    "plt.plot(history.history['accuracy'] )\n",
    "# plt.plot(history.history['val_binary_accuracy'])\n",
    "plt.xlabel('Epochs')\n",
    "plt.ylabel('Accuracy')\n",
    "plt.legend(['Train',\"Test\"],loc='upper left')\n",
    "\n",
    "plt.show()"
   ]
  },
  {
   "cell_type": "markdown",
   "metadata": {},
   "source": [
    "Evaluate the model on train data"
   ]
  },
  {
   "cell_type": "code",
   "execution_count": 209,
   "metadata": {},
   "outputs": [
    {
     "name": "stdout",
     "output_type": "stream",
     "text": [
      "140/140 [==============================] - 0s 959us/step - loss: 0.1817 - accuracy: 0.7445\n",
      "Train Loss: 0.1817273646593094\n",
      "Train Accuracy: 0.7445042729377747\n"
     ]
    }
   ],
   "source": [
    "loss, accuracy = model.evaluate(x_train, y_train_array)\n",
    "\n",
    "print(f\"Train Loss: {loss}\")\n",
    "print(f\"Train Accuracy: {accuracy}\")"
   ]
  },
  {
   "cell_type": "markdown",
   "metadata": {},
   "source": [
    "Evaluate the model on test data"
   ]
  },
  {
   "cell_type": "code",
   "execution_count": 210,
   "metadata": {},
   "outputs": [
    {
     "name": "stdout",
     "output_type": "stream",
     "text": [
      "47/47 [==============================] - 0s 961us/step - loss: 0.1896 - accuracy: 0.7315\n",
      "Test Loss: 0.18958479166030884\n",
      "Test Accuracy: 0.7314939498901367\n"
     ]
    }
   ],
   "source": [
    "loss, accuracy = model.evaluate(x_test, y_test_array)\n",
    "\n",
    "print(f\"Test Loss: {loss}\")\n",
    "print(f\"Test Accuracy: {accuracy}\")"
   ]
  },
  {
   "cell_type": "markdown",
   "metadata": {},
   "source": [
    "Making subarrays with zeros and ones"
   ]
  },
  {
   "cell_type": "code",
   "execution_count": 211,
   "metadata": {},
   "outputs": [],
   "source": [
    "x_test_zeros = x_test[y_test == 0]\n",
    "y_test_zeros = y_test_array[y_test == 0]\n",
    "\n",
    "x_test_ones = x_test[y_test == 1]\n",
    "y_test_ones = y_test_array[y_test == 1]"
   ]
  },
  {
   "cell_type": "code",
   "execution_count": 212,
   "metadata": {},
   "outputs": [
    {
     "name": "stdout",
     "output_type": "stream",
     "text": [
      "24/24 [==============================] - 0s 1ms/step - loss: 0.2413 - accuracy: 0.6373\n",
      "Accuracy for test data with zeros: 0.637333333492279\n",
      "23/23 [==============================] - 0s 1ms/step - loss: 0.1369 - accuracy: 0.8274\n",
      "Accuracy for test data with ones: 0.8274456262588501\n"
     ]
    }
   ],
   "source": [
    "# Evaluate the model on the subset with zeros\n",
    "loss_zeros, accuracy_zeros = model.evaluate(x_test_zeros, y_test_zeros)\n",
    "print(f\"Accuracy for test data with zeros: {accuracy_zeros}\")\n",
    "\n",
    "# Evaluate the model on the subset with ones\n",
    "loss_ones, accuracy_ones = model.evaluate(x_test_ones, y_test_ones)\n",
    "print(f\"Accuracy for test data with ones: {accuracy_ones}\")"
   ]
  },
  {
   "cell_type": "markdown",
   "metadata": {},
   "source": [
    "Saving the model"
   ]
  },
  {
   "cell_type": "code",
   "execution_count": 213,
   "metadata": {},
   "outputs": [
    {
     "name": "stderr",
     "output_type": "stream",
     "text": [
      "c:\\Users\\misha\\anaconda3\\envs\\cnv_predictor\\Lib\\site-packages\\keras\\src\\engine\\training.py:3103: UserWarning: You are saving your model as an HDF5 file via `model.save()`. This file format is considered legacy. We recommend using instead the native Keras format, e.g. `model.save('my_model.keras')`.\n",
      "  saving_api.save_model(\n"
     ]
    }
   ],
   "source": [
    "model.save('my_model.h5')"
   ]
  }
 ],
 "metadata": {
  "kernelspec": {
   "display_name": "cnv_predictor",
   "language": "python",
   "name": "python3"
  },
  "language_info": {
   "codemirror_mode": {
    "name": "ipython",
    "version": 3
   },
   "file_extension": ".py",
   "mimetype": "text/x-python",
   "name": "python",
   "nbconvert_exporter": "python",
   "pygments_lexer": "ipython3",
   "version": "3.11.7"
  }
 },
 "nbformat": 4,
 "nbformat_minor": 2
}
