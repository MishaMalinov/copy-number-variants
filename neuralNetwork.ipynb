{
 "cells": [
  {
   "cell_type": "code",
   "execution_count": 103,
   "metadata": {},
   "outputs": [],
   "source": [
    "import numpy as np\n",
    "import pandas as pd\n",
    "import matplotlib.pyplot as plt\n",
    "from sklearn.metrics import accuracy_score\n",
    "from sklearn.model_selection import train_test_split\n",
    "from sklearn.preprocessing import MinMaxScaler\n",
    "from keras.layers import Dense\n",
    "from keras.models import Sequential\n",
    "from keras.losses import BinaryCrossentropy\n",
    "from keras.metrics import BinaryAccuracy"
   ]
  },
  {
   "cell_type": "code",
   "execution_count": 104,
   "metadata": {},
   "outputs": [
    {
     "data": {
      "text/html": [
       "<div>\n",
       "<style scoped>\n",
       "    .dataframe tbody tr th:only-of-type {\n",
       "        vertical-align: middle;\n",
       "    }\n",
       "\n",
       "    .dataframe tbody tr th {\n",
       "        vertical-align: top;\n",
       "    }\n",
       "\n",
       "    .dataframe thead th {\n",
       "        text-align: right;\n",
       "    }\n",
       "</style>\n",
       "<table border=\"1\" class=\"dataframe\">\n",
       "  <thead>\n",
       "    <tr style=\"text-align: right;\">\n",
       "      <th></th>\n",
       "      <th>input</th>\n",
       "      <th>output</th>\n",
       "    </tr>\n",
       "  </thead>\n",
       "  <tbody>\n",
       "    <tr>\n",
       "      <th>0</th>\n",
       "      <td>[10, 100194214, 132432797, 1]</td>\n",
       "      <td>1</td>\n",
       "    </tr>\n",
       "    <tr>\n",
       "      <th>1</th>\n",
       "      <td>[10, 100600491, 133622588, 1]</td>\n",
       "      <td>1</td>\n",
       "    </tr>\n",
       "    <tr>\n",
       "      <th>2</th>\n",
       "      <td>[10, 100677716, 100764519, 0]</td>\n",
       "      <td>1</td>\n",
       "    </tr>\n",
       "    <tr>\n",
       "      <th>3</th>\n",
       "      <td>[10, 101120346, 101831908, 1]</td>\n",
       "      <td>1</td>\n",
       "    </tr>\n",
       "    <tr>\n",
       "      <th>4</th>\n",
       "      <td>[10, 101177304, 101719109, 1]</td>\n",
       "      <td>0</td>\n",
       "    </tr>\n",
       "  </tbody>\n",
       "</table>\n",
       "</div>"
      ],
      "text/plain": [
       "                           input  output\n",
       "0  [10, 100194214, 132432797, 1]       1\n",
       "1  [10, 100600491, 133622588, 1]       1\n",
       "2  [10, 100677716, 100764519, 0]       1\n",
       "3  [10, 101120346, 101831908, 1]       1\n",
       "4  [10, 101177304, 101719109, 1]       0"
      ]
     },
     "execution_count": 104,
     "metadata": {},
     "output_type": "execute_result"
    }
   ],
   "source": [
    "data = pd.read_csv(\"data.csv\")\n",
    "\n",
    "def toarray(row):\n",
    "    return [row['input1'],row['input2'],row['input3'],row['input4']]\n",
    "\n",
    "temp = data.apply(toarray,axis=1)\n",
    "data = pd.DataFrame(list(zip(temp,data['output'])),columns=(\"input\",\"output\"))\n",
    "x = np.array(data['input'].tolist())\n",
    "y = np.array(data['output'].tolist())\n",
    "data.head()"
   ]
  },
  {
   "cell_type": "code",
   "execution_count": 105,
   "metadata": {},
   "outputs": [
    {
     "data": {
      "text/plain": [
       "array([[6.66666667e-01, 1.45741737e-01, 1.52643255e-01, 1.00000000e+00],\n",
       "       [1.42857143e-01, 2.07043809e-04, 3.28109150e-02, 1.00000000e+00],\n",
       "       [2.38095238e-01, 4.15066067e-01, 4.57569619e-01, 0.00000000e+00],\n",
       "       ...,\n",
       "       [1.00000000e+00, 1.05379713e-01, 1.18214518e-01, 0.00000000e+00],\n",
       "       [5.23809524e-01, 9.42835662e-02, 9.89927349e-02, 0.00000000e+00],\n",
       "       [1.42857143e-01, 2.77217184e-04, 2.02142367e-04, 1.00000000e+00]])"
      ]
     },
     "execution_count": 105,
     "metadata": {},
     "output_type": "execute_result"
    }
   ],
   "source": [
    "mms = MinMaxScaler()\n",
    "test = x.copy()\n",
    "x = mms.fit_transform(x)\n",
    "x_train, x_test, y_train, y_test = train_test_split(x, y, test_size=0.25,random_state=42)\n",
    "x_train"
   ]
  },
  {
   "cell_type": "code",
   "execution_count": 106,
   "metadata": {},
   "outputs": [],
   "source": [
    "# Compile the model\n",
    "model = Sequential([\n",
    "    Dense(32, input_dim=4, activation='relu'),\n",
    "    Dense(16, activation='relu'),\n",
    "    Dense(1, activation='sigmoid')\n",
    "])\n",
    "model.compile(loss=BinaryCrossentropy(), optimizer=\"adam\", metrics=[BinaryAccuracy()])"
   ]
  },
  {
   "cell_type": "code",
   "execution_count": 107,
   "metadata": {},
   "outputs": [
    {
     "name": "stdout",
     "output_type": "stream",
     "text": [
      "Epoch 1/50\n",
      "240/240 [==============================] - 1s 2ms/step - loss: 0.6485 - binary_accuracy: 0.6604 - val_loss: 0.6462 - val_binary_accuracy: 0.6543\n",
      "Epoch 2/50\n",
      "240/240 [==============================] - 0s 1ms/step - loss: 0.6430 - binary_accuracy: 0.6604 - val_loss: 0.6448 - val_binary_accuracy: 0.6543\n",
      "Epoch 3/50\n",
      "240/240 [==============================] - 0s 1ms/step - loss: 0.6411 - binary_accuracy: 0.6604 - val_loss: 0.6439 - val_binary_accuracy: 0.6543\n",
      "Epoch 4/50\n",
      "240/240 [==============================] - 0s 1ms/step - loss: 0.6401 - binary_accuracy: 0.6604 - val_loss: 0.6438 - val_binary_accuracy: 0.6543\n",
      "Epoch 5/50\n",
      "240/240 [==============================] - 0s 2ms/step - loss: 0.6396 - binary_accuracy: 0.6604 - val_loss: 0.6439 - val_binary_accuracy: 0.6543\n",
      "Epoch 6/50\n",
      "240/240 [==============================] - 0s 2ms/step - loss: 0.6391 - binary_accuracy: 0.6604 - val_loss: 0.6435 - val_binary_accuracy: 0.6543\n",
      "Epoch 7/50\n",
      "240/240 [==============================] - 0s 2ms/step - loss: 0.6388 - binary_accuracy: 0.6604 - val_loss: 0.6447 - val_binary_accuracy: 0.6543\n",
      "Epoch 8/50\n",
      "240/240 [==============================] - 0s 1ms/step - loss: 0.6381 - binary_accuracy: 0.6604 - val_loss: 0.6437 - val_binary_accuracy: 0.6543\n",
      "Epoch 9/50\n",
      "240/240 [==============================] - 0s 2ms/step - loss: 0.6381 - binary_accuracy: 0.6604 - val_loss: 0.6435 - val_binary_accuracy: 0.6543\n",
      "Epoch 10/50\n",
      "240/240 [==============================] - 0s 2ms/step - loss: 0.6377 - binary_accuracy: 0.6604 - val_loss: 0.6441 - val_binary_accuracy: 0.6543\n",
      "Epoch 11/50\n",
      "240/240 [==============================] - 0s 2ms/step - loss: 0.6374 - binary_accuracy: 0.6604 - val_loss: 0.6433 - val_binary_accuracy: 0.6543\n",
      "Epoch 12/50\n",
      "240/240 [==============================] - 0s 2ms/step - loss: 0.6370 - binary_accuracy: 0.6604 - val_loss: 0.6433 - val_binary_accuracy: 0.6543\n",
      "Epoch 13/50\n",
      "240/240 [==============================] - 0s 1ms/step - loss: 0.6356 - binary_accuracy: 0.6604 - val_loss: 0.6416 - val_binary_accuracy: 0.6543\n",
      "Epoch 14/50\n",
      "240/240 [==============================] - 0s 2ms/step - loss: 0.6344 - binary_accuracy: 0.6604 - val_loss: 0.6401 - val_binary_accuracy: 0.6543\n",
      "Epoch 15/50\n",
      "240/240 [==============================] - 0s 2ms/step - loss: 0.6330 - binary_accuracy: 0.6608 - val_loss: 0.6407 - val_binary_accuracy: 0.6543\n",
      "Epoch 16/50\n",
      "240/240 [==============================] - 0s 1ms/step - loss: 0.6311 - binary_accuracy: 0.6612 - val_loss: 0.6392 - val_binary_accuracy: 0.6543\n",
      "Epoch 17/50\n",
      "240/240 [==============================] - 0s 1ms/step - loss: 0.6306 - binary_accuracy: 0.6620 - val_loss: 0.6375 - val_binary_accuracy: 0.6543\n",
      "Epoch 18/50\n",
      "240/240 [==============================] - 0s 1ms/step - loss: 0.6296 - binary_accuracy: 0.6641 - val_loss: 0.6354 - val_binary_accuracy: 0.6605\n",
      "Epoch 19/50\n",
      "240/240 [==============================] - 0s 1ms/step - loss: 0.6281 - binary_accuracy: 0.6658 - val_loss: 0.6347 - val_binary_accuracy: 0.6578\n",
      "Epoch 20/50\n",
      "240/240 [==============================] - 0s 1ms/step - loss: 0.6274 - binary_accuracy: 0.6664 - val_loss: 0.6354 - val_binary_accuracy: 0.6582\n",
      "Epoch 21/50\n",
      "240/240 [==============================] - 0s 1ms/step - loss: 0.6262 - binary_accuracy: 0.6661 - val_loss: 0.6345 - val_binary_accuracy: 0.6586\n",
      "Epoch 22/50\n",
      "240/240 [==============================] - 0s 1ms/step - loss: 0.6258 - binary_accuracy: 0.6658 - val_loss: 0.6333 - val_binary_accuracy: 0.6613\n",
      "Epoch 23/50\n",
      "240/240 [==============================] - 0s 1ms/step - loss: 0.6245 - binary_accuracy: 0.6670 - val_loss: 0.6322 - val_binary_accuracy: 0.6586\n",
      "Epoch 24/50\n",
      "240/240 [==============================] - 0s 2ms/step - loss: 0.6241 - binary_accuracy: 0.6661 - val_loss: 0.6310 - val_binary_accuracy: 0.6601\n",
      "Epoch 25/50\n",
      "240/240 [==============================] - 0s 1ms/step - loss: 0.6231 - binary_accuracy: 0.6662 - val_loss: 0.6305 - val_binary_accuracy: 0.6613\n",
      "Epoch 26/50\n",
      "240/240 [==============================] - 0s 1ms/step - loss: 0.6226 - binary_accuracy: 0.6674 - val_loss: 0.6308 - val_binary_accuracy: 0.6605\n",
      "Epoch 27/50\n",
      "240/240 [==============================] - 0s 2ms/step - loss: 0.6224 - binary_accuracy: 0.6676 - val_loss: 0.6311 - val_binary_accuracy: 0.6605\n",
      "Epoch 28/50\n",
      "240/240 [==============================] - 0s 1ms/step - loss: 0.6215 - binary_accuracy: 0.6672 - val_loss: 0.6290 - val_binary_accuracy: 0.6605\n",
      "Epoch 29/50\n",
      "240/240 [==============================] - 0s 2ms/step - loss: 0.6212 - binary_accuracy: 0.6678 - val_loss: 0.6280 - val_binary_accuracy: 0.6590\n",
      "Epoch 30/50\n",
      "240/240 [==============================] - 0s 2ms/step - loss: 0.6203 - binary_accuracy: 0.6674 - val_loss: 0.6316 - val_binary_accuracy: 0.6590\n",
      "Epoch 31/50\n",
      "240/240 [==============================] - 0s 1ms/step - loss: 0.6198 - binary_accuracy: 0.6674 - val_loss: 0.6270 - val_binary_accuracy: 0.6590\n",
      "Epoch 32/50\n",
      "240/240 [==============================] - 0s 1ms/step - loss: 0.6192 - binary_accuracy: 0.6684 - val_loss: 0.6269 - val_binary_accuracy: 0.6586\n",
      "Epoch 33/50\n",
      "240/240 [==============================] - 0s 1ms/step - loss: 0.6189 - binary_accuracy: 0.6671 - val_loss: 0.6297 - val_binary_accuracy: 0.6617\n",
      "Epoch 34/50\n",
      "240/240 [==============================] - 0s 1ms/step - loss: 0.6184 - binary_accuracy: 0.6680 - val_loss: 0.6258 - val_binary_accuracy: 0.6605\n",
      "Epoch 35/50\n",
      "240/240 [==============================] - 0s 1ms/step - loss: 0.6178 - binary_accuracy: 0.6678 - val_loss: 0.6275 - val_binary_accuracy: 0.6637\n",
      "Epoch 36/50\n",
      "240/240 [==============================] - 0s 1ms/step - loss: 0.6178 - binary_accuracy: 0.6672 - val_loss: 0.6285 - val_binary_accuracy: 0.6605\n",
      "Epoch 37/50\n",
      "240/240 [==============================] - 0s 1ms/step - loss: 0.6172 - binary_accuracy: 0.6679 - val_loss: 0.6261 - val_binary_accuracy: 0.6641\n",
      "Epoch 38/50\n",
      "240/240 [==============================] - 0s 1ms/step - loss: 0.6169 - binary_accuracy: 0.6688 - val_loss: 0.6245 - val_binary_accuracy: 0.6594\n",
      "Epoch 39/50\n",
      "240/240 [==============================] - 0s 1ms/step - loss: 0.6166 - binary_accuracy: 0.6683 - val_loss: 0.6249 - val_binary_accuracy: 0.6609\n",
      "Epoch 40/50\n",
      "240/240 [==============================] - 0s 1ms/step - loss: 0.6163 - binary_accuracy: 0.6684 - val_loss: 0.6239 - val_binary_accuracy: 0.6617\n",
      "Epoch 41/50\n",
      "240/240 [==============================] - 0s 1ms/step - loss: 0.6158 - binary_accuracy: 0.6683 - val_loss: 0.6234 - val_binary_accuracy: 0.6621\n",
      "Epoch 42/50\n",
      "240/240 [==============================] - 0s 1ms/step - loss: 0.6157 - binary_accuracy: 0.6684 - val_loss: 0.6245 - val_binary_accuracy: 0.6641\n",
      "Epoch 43/50\n",
      "240/240 [==============================] - 0s 1ms/step - loss: 0.6152 - binary_accuracy: 0.6702 - val_loss: 0.6233 - val_binary_accuracy: 0.6586\n",
      "Epoch 44/50\n",
      "240/240 [==============================] - 0s 1ms/step - loss: 0.6151 - binary_accuracy: 0.6687 - val_loss: 0.6227 - val_binary_accuracy: 0.6625\n",
      "Epoch 45/50\n",
      "240/240 [==============================] - 0s 1ms/step - loss: 0.6146 - binary_accuracy: 0.6693 - val_loss: 0.6234 - val_binary_accuracy: 0.6590\n",
      "Epoch 46/50\n",
      "240/240 [==============================] - 0s 1ms/step - loss: 0.6150 - binary_accuracy: 0.6683 - val_loss: 0.6237 - val_binary_accuracy: 0.6590\n",
      "Epoch 47/50\n",
      "240/240 [==============================] - 0s 1ms/step - loss: 0.6144 - binary_accuracy: 0.6702 - val_loss: 0.6226 - val_binary_accuracy: 0.6590\n",
      "Epoch 48/50\n",
      "240/240 [==============================] - 0s 1ms/step - loss: 0.6141 - binary_accuracy: 0.6688 - val_loss: 0.6226 - val_binary_accuracy: 0.6644\n",
      "Epoch 49/50\n",
      "240/240 [==============================] - 0s 1ms/step - loss: 0.6139 - binary_accuracy: 0.6684 - val_loss: 0.6240 - val_binary_accuracy: 0.6641\n",
      "Epoch 50/50\n",
      "240/240 [==============================] - 0s 1ms/step - loss: 0.6140 - binary_accuracy: 0.6695 - val_loss: 0.6229 - val_binary_accuracy: 0.6641\n"
     ]
    }
   ],
   "source": [
    "# Train the model\n",
    "history = model.fit(x_train, y_train, epochs=50, batch_size=32, validation_data=(x_test, y_test))"
   ]
  },
  {
   "cell_type": "code",
   "execution_count": 108,
   "metadata": {},
   "outputs": [
    {
     "data": {
      "image/png": "[encoded data removed]",
      "text/plain": [
       "<Figure size 640x480 with 1 Axes>"
      ]
     },
     "metadata": {},
     "output_type": "display_data"
    }
   ],
   "source": [
    "plt.plot(history.history['loss'], label='Training Loss')\n",
    "plt.plot(history.history['binary_accuracy'], label='Accuracy')\n",
    "plt.xlabel('Epochs')\n",
    "plt.ylabel('Loss')\n",
    "plt.legend()\n",
    "plt.show()"
   ]
  },
  {
   "cell_type": "code",
   "execution_count": 109,
   "metadata": {},
   "outputs": [
    {
     "name": "stdout",
     "output_type": "stream",
     "text": [
      "80/80 [==============================] - 0s 798us/step\n"
     ]
    },
    {
     "data": {
      "text/plain": [
       "0.6640563821456539"
      ]
     },
     "execution_count": 109,
     "metadata": {},
     "output_type": "execute_result"
    }
   ],
   "source": [
    "accuracy_score(list(map(lambda x: round(x[0]),model.predict(x_test))), y_test)\n"
   ]
  },
  {
   "cell_type": "code",
   "execution_count": 110,
   "metadata": {},
   "outputs": [
    {
     "name": "stdout",
     "output_type": "stream",
     "text": [
      "240/240 [==============================] - 0s 833us/step\n"
     ]
    },
    {
     "data": {
      "text/plain": [
       "0.6712793733681462"
      ]
     },
     "execution_count": 110,
     "metadata": {},
     "output_type": "execute_result"
    }
   ],
   "source": [
    "\n",
    "accuracy_score(list(map(lambda x: round(x[0]),model.predict(x_train))), y_train)\n"
   ]
  }
 ],
 "metadata": {
  "kernelspec": {
   "display_name": "Python 3",
   "language": "python",
   "name": "python3"
  },
  "language_info": {
   "codemirror_mode": {
    "name": "ipython",
    "version": 3
   },
   "file_extension": ".py",
   "mimetype": "text/x-python",
   "name": "python",
   "nbconvert_exporter": "python",
   "pygments_lexer": "ipython3",
   "version": "3.11.5"
  }
 },
 "nbformat": 4,
 "nbformat_minor": 2
}
